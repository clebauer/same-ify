{
 "cells": [
  {
   "cell_type": "code",
   "execution_count": 1,
   "id": "63ea42be",
   "metadata": {},
   "outputs": [],
   "source": [
    "# ********** Import Statements ************************************************************ #\n",
    "import sys\n",
    "import spotipy\n",
    "import spotipy.util as util\n",
    "\n",
    "import pandas as pd\n",
    "import json\n",
    "import math\n",
    "\n",
    "import matplotlib.pyplot as plt\n",
    "import seaborn as sns\n",
    "\n",
    "\n",
    "from sklearn import datasets, linear_model\n",
    "\n",
    "pd.set_option('display.max_rows', 500)"
   ]
  },
  {
   "cell_type": "code",
   "execution_count": 2,
   "id": "c0518c08",
   "metadata": {},
   "outputs": [],
   "source": [
    "# ********** Define Intro Values ************************************************************ #\n",
    "# Loading in the client id and secret.\n",
    "#client_info = json.load(open('/Users/cassielebauer/Documents/Projects/secret credentials/sameify_creds.json'))\n",
    "\n",
    "# Spotify user IDs for testing: these are public information.\n",
    "user_ids = {'Cassie':'1242091675',\n",
    "            'Caity':'12166088827',\n",
    "            'Ben':'yaojxcyh5tczzlln0ygm9sfla',\n",
    "            'Alex':'12130992491',\n",
    "            'Jason':'jason.albert'}"
   ]
  },
  {
   "cell_type": "code",
   "execution_count": 27,
   "id": "303c8028",
   "metadata": {},
   "outputs": [],
   "source": [
    "class Sameify:\n",
    "    # Scopes for initialization; these are for the Spotify API\n",
    "    redirect_uri = 'http://localhost:1410/'\n",
    "    client_info = json.load(open('/Users/cassielebauer/Documents/Projects/secret credentials/sameify_creds.json'))\n",
    "    scopes = ['user-read-recently-played',\n",
    "              'user-top-read',\n",
    "              'playlist-read-collaborative',\n",
    "              'user-library-read',\n",
    "              'playlist-read-private',\n",
    "              'user-read-private',\n",
    "              'playlist-modify-public']\n",
    "\n",
    "    def __init__(self, user_id, read_only=True):\n",
    "        # Declare valuesl\n",
    "        self.id = user_id\n",
    "        self.client_id = self.client_info['client_id']\n",
    "        self.client_secret = self.client_info['client_secret']\n",
    "        \n",
    "        # Connect to Spotify\n",
    "        self.sp = self.spotify_connect()\n",
    "        \n",
    "        # Pull relevant main values\n",
    "        self.name = self.sp.user(self.id)['display_name']\n",
    "        self.playlists = self.get_all_playlists()\n",
    "        self.personal_playlists = self.get_personal_playlists(self.playlists)\n",
    "        #self.personal_tracks = self.get_all_playlist_tracks(self.personal_playlists[0:2])\n",
    "\n",
    "    # Connects to Spotify\n",
    "    def spotify_connect(self):\n",
    "        token = util.prompt_for_user_token(self.id,\n",
    "                                            self.scopes,\n",
    "                                            self.client_id,\n",
    "                                            self.client_secret,\n",
    "                                            self.redirect_uri)\n",
    "\n",
    "        sp = spotipy.Spotify(auth=token)\n",
    "        return sp\n",
    "    \n",
    "    #def overstep_limit(self, item_id):\n",
    "\n",
    "    def get_playlist_id(self, playlist_name):\n",
    "        return self.playlists.loc[self.playlists['playlist_name'] == playlist_name,'playlist_id'].values[0]\n",
    "    \n",
    "    def get_playlist_name(self, playlist_id):\n",
    "        return self.playlists.loc[self.playlists['playlist_id'] == playlist_id,'playlist_name'].values[0]\n",
    "    \n",
    "    def get_all_playlist_tracks(self, list_of_playlists):\n",
    "        tracks_df = pd.DataFrame()\n",
    "\n",
    "        for ix in range(len(list_of_playlists)):\n",
    "            plist_tracks = self.get_playlist_tracks(list_of_playlists.loc[ix,'playlist_id'])\n",
    "            tracks_df = tracks_df.append(plist_tracks)\n",
    "        return tracks_df\n",
    "            \n",
    "    def get_playlist_tracks(self, playlist_id):\n",
    "        ret_df = pd.DataFrame()\n",
    "        \n",
    "        playlist = self.sp.user_playlist_tracks(self.id, playlist_id)\n",
    "        playlist_name = self.get_playlist_name(playlist_id)\n",
    "        tracks = playlist['items']\n",
    "        \n",
    "        while playlist['next']:\n",
    "            playlist = self.sp.next(playlist)\n",
    "            tracks.extend(playlist['items'])\n",
    "            \n",
    "        for track in tracks:\n",
    "            x = track['track']\n",
    "            data = {'playlist_id'  : playlist_id,\n",
    "                    'playlist_name': playlist_name,\n",
    "                    'track_name'   : x['name'],\n",
    "                    'track_id'     : x['id'], \n",
    "                    'track_artist' : x['artists'][0]['name'], #[artist['name'] for artist in x['artists']]\n",
    "                    'added_by'     : track['added_by']['id'],\n",
    "                    'added_at'     : track['added_at']\n",
    "                   }\n",
    "            data_df = pd.DataFrame([data])\n",
    "            song_deets = pd.DataFrame(self.sp.audio_features(data['track_id']))\n",
    "            \n",
    "            full_data = pd.concat([data_df, song_deets],axis=1)\n",
    "            \n",
    "            ret_df = ret_df.append(full_data)\n",
    "        ret_df.reset_index(drop=True, inplace=True)\n",
    "        return ret_df\n",
    "            \n",
    "        \n",
    "    def get_all_playlists(self):\n",
    "        playlists = pd.DataFrame()\n",
    "        \n",
    "        total = self.sp.user_playlists(self.id)['total'] #number of playlists\n",
    "        limit = 50 # pull at a time\n",
    "        \n",
    "        for x in range(0, total, limit): # for each set of playlists\n",
    "            new_playlist = self.sp.user_playlists(self.id, limit=limit, offset=x)\n",
    "            for x in new_playlist['items']:\n",
    "                items = {'playlist_name': x['name'],\n",
    "                         'playlist_id'  : x['id'],\n",
    "                         'owner_name'   : x['owner']['display_name'],\n",
    "                         'owner_id'     : x['owner']['id'],\n",
    "                         'num_tracks'   : x['tracks']['total'],\n",
    "                         'collaborative': x['collaborative'],\n",
    "                         }\n",
    "                playlists = playlists.append(pd.DataFrame([items]))\n",
    "        \n",
    "        playlists.reset_index(drop=True, inplace=True)\n",
    "        return playlists\n",
    "     \n",
    "    def remove_long_playlists(self, playlists):        \n",
    "        req_text = '''The following playlists have over 100 tracks. Do you want to exclude any of these from the program? \n",
    "If so, please list the index numbers in a comma separated list. (e.g. \"1,2,5,10\").\n",
    "For all playlists, please type \"all\".'''\n",
    "        print(playlists[playlists['num_tracks']>=100][['playlist_name','num_tracks']])\n",
    "        \n",
    "        indices = input(req_text)\n",
    "        if indices == 'all':\n",
    "            print(playlists[['playlist_name','num_tracks']])\n",
    "            req_text_2 = 'Please list the index numbers of the playlists to remove in a comma separated list. (e.g. \"1,2,5,10\")'\n",
    "            indices = input(req_text_2)\n",
    "        \n",
    "        indices_to_exclude = [int(x) for x in indices.split(',')] if indices != '' else []\n",
    "\n",
    "        indices_to_include = [x for x in playlists.index if x not in indices_to_exclude]\n",
    "        playlists_to_use = playlists.iloc[indices_to_include,:].reset_index(drop=True)\n",
    "        return playlists_to_use\n",
    "    \n",
    "    def get_personal_playlists(self, playlists):\n",
    "        collab_filter = (playlists['collaborative'] == True) & (playlists['owner_name'] != self.name)\n",
    "        personal_filter = playlists['owner_name'] == self.name\n",
    "        personal_playlists = playlists[collab_filter | personal_filter].reset_index(drop=True)\n",
    "        playlists_to_use = self.remove_long_playlists(personal_playlists)\n",
    "        return playlists_to_use\n",
    " "
   ]
  },
  {
   "cell_type": "code",
   "execution_count": 4,
   "id": "3bb11e70",
   "metadata": {},
   "outputs": [],
   "source": [
    "# 1, 2, 3, 203, 204, 205, 206"
   ]
  },
  {
   "cell_type": "code",
   "execution_count": null,
   "id": "06cb2dce",
   "metadata": {},
   "outputs": [],
   "source": [
    "cas"
   ]
  },
  {
   "cell_type": "code",
   "execution_count": 7,
   "id": "79461ccd",
   "metadata": {
    "collapsed": true
   },
   "outputs": [
    {
     "name": "stdout",
     "output_type": "stream",
     "text": [
      "                  playlist_name  num_tracks\n",
      "1       Discover Weekly Archive         120\n",
      "2         Release Radar Archive         118\n",
      "3    All Songs (as of 04/05/21)        1994\n",
      "10           The Nechromanticon         123\n",
      "40               Teenage Cassie         222\n",
      "129          Discovered & Loved         149\n",
      "130              Songs Saved v1         113\n",
      "205    Release Radar Archive v1        4929\n",
      "206  Discover Weekly Archive v2        4322\n"
     ]
    },
    {
     "ename": "KeyboardInterrupt",
     "evalue": "Interrupted by user",
     "output_type": "error",
     "traceback": [
      "\u001b[0;31m---------------------------------------------------------------------------\u001b[0m",
      "\u001b[0;31mKeyboardInterrupt\u001b[0m                         Traceback (most recent call last)",
      "\u001b[0;32m<ipython-input-7-6b5bb7961bd0>\u001b[0m in \u001b[0;36m<module>\u001b[0;34m\u001b[0m\n\u001b[0;32m----> 1\u001b[0;31m \u001b[0mcassie_acct\u001b[0m \u001b[0;34m=\u001b[0m \u001b[0mSameify\u001b[0m\u001b[0;34m(\u001b[0m\u001b[0muser_ids\u001b[0m\u001b[0;34m[\u001b[0m\u001b[0;34m'Cassie'\u001b[0m\u001b[0;34m]\u001b[0m\u001b[0;34m,\u001b[0m\u001b[0mread_only\u001b[0m\u001b[0;34m=\u001b[0m\u001b[0;32mFalse\u001b[0m\u001b[0;34m)\u001b[0m\u001b[0;34m\u001b[0m\u001b[0;34m\u001b[0m\u001b[0m\n\u001b[0m",
      "\u001b[0;32m<ipython-input-6-339cc56056e3>\u001b[0m in \u001b[0;36m__init__\u001b[0;34m(self, user_id, read_only)\u001b[0m\n\u001b[1;32m     23\u001b[0m         \u001b[0mself\u001b[0m\u001b[0;34m.\u001b[0m\u001b[0mname\u001b[0m \u001b[0;34m=\u001b[0m \u001b[0mself\u001b[0m\u001b[0;34m.\u001b[0m\u001b[0msp\u001b[0m\u001b[0;34m.\u001b[0m\u001b[0muser\u001b[0m\u001b[0;34m(\u001b[0m\u001b[0mself\u001b[0m\u001b[0;34m.\u001b[0m\u001b[0mid\u001b[0m\u001b[0;34m)\u001b[0m\u001b[0;34m[\u001b[0m\u001b[0;34m'display_name'\u001b[0m\u001b[0;34m]\u001b[0m\u001b[0;34m\u001b[0m\u001b[0;34m\u001b[0m\u001b[0m\n\u001b[1;32m     24\u001b[0m         \u001b[0mself\u001b[0m\u001b[0;34m.\u001b[0m\u001b[0mplaylists\u001b[0m \u001b[0;34m=\u001b[0m \u001b[0mself\u001b[0m\u001b[0;34m.\u001b[0m\u001b[0mget_all_playlists\u001b[0m\u001b[0;34m(\u001b[0m\u001b[0;34m)\u001b[0m\u001b[0;34m\u001b[0m\u001b[0;34m\u001b[0m\u001b[0m\n\u001b[0;32m---> 25\u001b[0;31m         \u001b[0mself\u001b[0m\u001b[0;34m.\u001b[0m\u001b[0mpersonal_playlists\u001b[0m \u001b[0;34m=\u001b[0m \u001b[0mself\u001b[0m\u001b[0;34m.\u001b[0m\u001b[0mget_personal_playlists\u001b[0m\u001b[0;34m(\u001b[0m\u001b[0mself\u001b[0m\u001b[0;34m.\u001b[0m\u001b[0mplaylists\u001b[0m\u001b[0;34m)\u001b[0m\u001b[0;34m\u001b[0m\u001b[0;34m\u001b[0m\u001b[0m\n\u001b[0m\u001b[1;32m     26\u001b[0m         \u001b[0mself\u001b[0m\u001b[0;34m.\u001b[0m\u001b[0mpersonal_tracks\u001b[0m \u001b[0;34m=\u001b[0m \u001b[0mself\u001b[0m\u001b[0;34m.\u001b[0m\u001b[0mget_all_playlist_tracks\u001b[0m\u001b[0;34m(\u001b[0m\u001b[0mself\u001b[0m\u001b[0;34m.\u001b[0m\u001b[0mpersonal_playlists\u001b[0m\u001b[0;34m[\u001b[0m\u001b[0;36m0\u001b[0m\u001b[0;34m:\u001b[0m\u001b[0;36m2\u001b[0m\u001b[0;34m]\u001b[0m\u001b[0;34m)\u001b[0m\u001b[0;34m\u001b[0m\u001b[0;34m\u001b[0m\u001b[0m\n\u001b[1;32m     27\u001b[0m \u001b[0;34m\u001b[0m\u001b[0m\n",
      "\u001b[0;32m<ipython-input-6-339cc56056e3>\u001b[0m in \u001b[0;36mget_personal_playlists\u001b[0;34m(self, playlists)\u001b[0m\n\u001b[1;32m    127\u001b[0m         \u001b[0mpersonal_filter\u001b[0m \u001b[0;34m=\u001b[0m \u001b[0mplaylists\u001b[0m\u001b[0;34m[\u001b[0m\u001b[0;34m'owner_name'\u001b[0m\u001b[0;34m]\u001b[0m \u001b[0;34m==\u001b[0m \u001b[0mself\u001b[0m\u001b[0;34m.\u001b[0m\u001b[0mname\u001b[0m\u001b[0;34m\u001b[0m\u001b[0;34m\u001b[0m\u001b[0m\n\u001b[1;32m    128\u001b[0m         \u001b[0mpersonal_playlists\u001b[0m \u001b[0;34m=\u001b[0m \u001b[0mplaylists\u001b[0m\u001b[0;34m[\u001b[0m\u001b[0mcollab_filter\u001b[0m \u001b[0;34m|\u001b[0m \u001b[0mpersonal_filter\u001b[0m\u001b[0;34m]\u001b[0m\u001b[0;34m.\u001b[0m\u001b[0mreset_index\u001b[0m\u001b[0;34m(\u001b[0m\u001b[0mdrop\u001b[0m\u001b[0;34m=\u001b[0m\u001b[0;32mTrue\u001b[0m\u001b[0;34m)\u001b[0m\u001b[0;34m\u001b[0m\u001b[0;34m\u001b[0m\u001b[0m\n\u001b[0;32m--> 129\u001b[0;31m         \u001b[0mplaylists_to_use\u001b[0m \u001b[0;34m=\u001b[0m \u001b[0mself\u001b[0m\u001b[0;34m.\u001b[0m\u001b[0mremove_long_playlists\u001b[0m\u001b[0;34m(\u001b[0m\u001b[0mpersonal_playlists\u001b[0m\u001b[0;34m)\u001b[0m\u001b[0;34m\u001b[0m\u001b[0;34m\u001b[0m\u001b[0m\n\u001b[0m\u001b[1;32m    130\u001b[0m         \u001b[0;32mreturn\u001b[0m \u001b[0mplaylists_to_use\u001b[0m\u001b[0;34m\u001b[0m\u001b[0;34m\u001b[0m\u001b[0m\n\u001b[1;32m    131\u001b[0m \u001b[0;34m\u001b[0m\u001b[0m\n",
      "\u001b[0;32m<ipython-input-6-339cc56056e3>\u001b[0m in \u001b[0;36mremove_long_playlists\u001b[0;34m(self, playlists)\u001b[0m\n\u001b[1;32m    111\u001b[0m         \u001b[0mprint\u001b[0m\u001b[0;34m(\u001b[0m\u001b[0mplaylists\u001b[0m\u001b[0;34m[\u001b[0m\u001b[0mplaylists\u001b[0m\u001b[0;34m[\u001b[0m\u001b[0;34m'num_tracks'\u001b[0m\u001b[0;34m]\u001b[0m\u001b[0;34m>=\u001b[0m\u001b[0;36m100\u001b[0m\u001b[0;34m]\u001b[0m\u001b[0;34m[\u001b[0m\u001b[0;34m[\u001b[0m\u001b[0;34m'playlist_name'\u001b[0m\u001b[0;34m,\u001b[0m\u001b[0;34m'num_tracks'\u001b[0m\u001b[0;34m]\u001b[0m\u001b[0;34m]\u001b[0m\u001b[0;34m)\u001b[0m\u001b[0;34m\u001b[0m\u001b[0;34m\u001b[0m\u001b[0m\n\u001b[1;32m    112\u001b[0m \u001b[0;34m\u001b[0m\u001b[0m\n\u001b[0;32m--> 113\u001b[0;31m         \u001b[0mindices\u001b[0m \u001b[0;34m=\u001b[0m \u001b[0minput\u001b[0m\u001b[0;34m(\u001b[0m\u001b[0mreq_text\u001b[0m\u001b[0;34m)\u001b[0m\u001b[0;34m\u001b[0m\u001b[0;34m\u001b[0m\u001b[0m\n\u001b[0m\u001b[1;32m    114\u001b[0m         \u001b[0;32mif\u001b[0m \u001b[0mindices\u001b[0m \u001b[0;34m==\u001b[0m \u001b[0;34m'all'\u001b[0m\u001b[0;34m:\u001b[0m\u001b[0;34m\u001b[0m\u001b[0;34m\u001b[0m\u001b[0m\n\u001b[1;32m    115\u001b[0m             \u001b[0mprint\u001b[0m\u001b[0;34m(\u001b[0m\u001b[0mplaylists\u001b[0m\u001b[0;34m[\u001b[0m\u001b[0;34m[\u001b[0m\u001b[0;34m'playlist_name'\u001b[0m\u001b[0;34m,\u001b[0m\u001b[0;34m'num_tracks'\u001b[0m\u001b[0;34m]\u001b[0m\u001b[0;34m]\u001b[0m\u001b[0;34m)\u001b[0m\u001b[0;34m\u001b[0m\u001b[0;34m\u001b[0m\u001b[0m\n",
      "\u001b[0;32m~/Documents/Projects/venvs/sameify/lib/python3.8/site-packages/ipykernel/kernelbase.py\u001b[0m in \u001b[0;36mraw_input\u001b[0;34m(self, prompt)\u001b[0m\n\u001b[1;32m    846\u001b[0m                 \u001b[0;34m\"raw_input was called, but this frontend does not support input requests.\"\u001b[0m\u001b[0;34m\u001b[0m\u001b[0;34m\u001b[0m\u001b[0m\n\u001b[1;32m    847\u001b[0m             )\n\u001b[0;32m--> 848\u001b[0;31m         return self._input_request(str(prompt),\n\u001b[0m\u001b[1;32m    849\u001b[0m             \u001b[0mself\u001b[0m\u001b[0;34m.\u001b[0m\u001b[0m_parent_ident\u001b[0m\u001b[0;34m,\u001b[0m\u001b[0;34m\u001b[0m\u001b[0;34m\u001b[0m\u001b[0m\n\u001b[1;32m    850\u001b[0m             \u001b[0mself\u001b[0m\u001b[0;34m.\u001b[0m\u001b[0m_parent_header\u001b[0m\u001b[0;34m,\u001b[0m\u001b[0;34m\u001b[0m\u001b[0;34m\u001b[0m\u001b[0m\n",
      "\u001b[0;32m~/Documents/Projects/venvs/sameify/lib/python3.8/site-packages/ipykernel/kernelbase.py\u001b[0m in \u001b[0;36m_input_request\u001b[0;34m(self, prompt, ident, parent, password)\u001b[0m\n\u001b[1;32m    890\u001b[0m             \u001b[0;32mexcept\u001b[0m \u001b[0mKeyboardInterrupt\u001b[0m\u001b[0;34m:\u001b[0m\u001b[0;34m\u001b[0m\u001b[0;34m\u001b[0m\u001b[0m\n\u001b[1;32m    891\u001b[0m                 \u001b[0;31m# re-raise KeyboardInterrupt, to truncate traceback\u001b[0m\u001b[0;34m\u001b[0m\u001b[0;34m\u001b[0m\u001b[0;34m\u001b[0m\u001b[0m\n\u001b[0;32m--> 892\u001b[0;31m                 \u001b[0;32mraise\u001b[0m \u001b[0mKeyboardInterrupt\u001b[0m\u001b[0;34m(\u001b[0m\u001b[0;34m\"Interrupted by user\"\u001b[0m\u001b[0;34m)\u001b[0m \u001b[0;32mfrom\u001b[0m \u001b[0;32mNone\u001b[0m\u001b[0;34m\u001b[0m\u001b[0;34m\u001b[0m\u001b[0m\n\u001b[0m\u001b[1;32m    893\u001b[0m             \u001b[0;32mexcept\u001b[0m \u001b[0mException\u001b[0m \u001b[0;32mas\u001b[0m \u001b[0me\u001b[0m\u001b[0;34m:\u001b[0m\u001b[0;34m\u001b[0m\u001b[0;34m\u001b[0m\u001b[0m\n\u001b[1;32m    894\u001b[0m                 \u001b[0mself\u001b[0m\u001b[0;34m.\u001b[0m\u001b[0mlog\u001b[0m\u001b[0;34m.\u001b[0m\u001b[0mwarning\u001b[0m\u001b[0;34m(\u001b[0m\u001b[0;34m\"Invalid Message:\"\u001b[0m\u001b[0;34m,\u001b[0m \u001b[0mexc_info\u001b[0m\u001b[0;34m=\u001b[0m\u001b[0;32mTrue\u001b[0m\u001b[0;34m)\u001b[0m\u001b[0;34m\u001b[0m\u001b[0;34m\u001b[0m\u001b[0m\n",
      "\u001b[0;31mKeyboardInterrupt\u001b[0m: Interrupted by user"
     ]
    }
   ],
   "source": [
    "cassie_acct = Sameify(user_ids['Cassie'],read_only=False)"
   ]
  },
  {
   "cell_type": "code",
   "execution_count": 28,
   "id": "3f51610a",
   "metadata": {},
   "outputs": [
    {
     "name": "stdout",
     "output_type": "stream",
     "text": [
      "    playlist_name  num_tracks\n",
      "2        Workout!         222\n",
      "8   Golden Oldies         385\n",
      "11        Writing         113\n",
      "15        Running         613\n",
      "The following playlists have over 100 tracks. Do you want to exclude any of these from the program? \n",
      "If so, please list the index numbers in a comma separated list. (e.g. \"1,2,5,10\").\n",
      "For all playlists, please type \"all\".2,8,11,15\n"
     ]
    }
   ],
   "source": [
    "ben_acct = Sameify(user_ids['Ben'],read_only=True)"
   ]
  },
  {
   "cell_type": "code",
   "execution_count": 29,
   "id": "d4b594e3",
   "metadata": {},
   "outputs": [
    {
     "ename": "AttributeError",
     "evalue": "'int' object has no attribute 'loc'",
     "output_type": "error",
     "traceback": [
      "\u001b[0;31m---------------------------------------------------------------------------\u001b[0m",
      "\u001b[0;31mAttributeError\u001b[0m                            Traceback (most recent call last)",
      "\u001b[0;32m<ipython-input-29-c4a3fc61eb90>\u001b[0m in \u001b[0;36m<module>\u001b[0;34m\u001b[0m\n\u001b[0;32m----> 1\u001b[0;31m \u001b[0mben_acct\u001b[0m\u001b[0;34m.\u001b[0m\u001b[0mget_all_playlist_tracks\u001b[0m\u001b[0;34m(\u001b[0m\u001b[0mben_acct\u001b[0m\u001b[0;34m.\u001b[0m\u001b[0mpersonal_playlists\u001b[0m\u001b[0;34m[\u001b[0m\u001b[0;36m0\u001b[0m\u001b[0;34m:\u001b[0m\u001b[0;36m2\u001b[0m\u001b[0;34m]\u001b[0m\u001b[0;34m)\u001b[0m\u001b[0;34m\u001b[0m\u001b[0;34m\u001b[0m\u001b[0m\n\u001b[0m",
      "\u001b[0;32m<ipython-input-27-32824677c90a>\u001b[0m in \u001b[0;36mget_all_playlist_tracks\u001b[0;34m(self, list_of_playlists)\u001b[0m\n\u001b[1;32m     49\u001b[0m \u001b[0;34m\u001b[0m\u001b[0m\n\u001b[1;32m     50\u001b[0m         \u001b[0;32mfor\u001b[0m \u001b[0mplist\u001b[0m \u001b[0;32min\u001b[0m \u001b[0mrange\u001b[0m\u001b[0;34m(\u001b[0m\u001b[0mlen\u001b[0m\u001b[0;34m(\u001b[0m\u001b[0mlist_of_playlists\u001b[0m\u001b[0;34m)\u001b[0m\u001b[0;34m)\u001b[0m\u001b[0;34m:\u001b[0m\u001b[0;34m\u001b[0m\u001b[0;34m\u001b[0m\u001b[0m\n\u001b[0;32m---> 51\u001b[0;31m             \u001b[0mplist_tracks\u001b[0m \u001b[0;34m=\u001b[0m \u001b[0mself\u001b[0m\u001b[0;34m.\u001b[0m\u001b[0mget_playlist_tracks\u001b[0m\u001b[0;34m(\u001b[0m\u001b[0mplist\u001b[0m\u001b[0;34m.\u001b[0m\u001b[0mloc\u001b[0m\u001b[0;34m[\u001b[0m\u001b[0mx\u001b[0m\u001b[0;34m,\u001b[0m\u001b[0;34m'playlist_id'\u001b[0m\u001b[0;34m]\u001b[0m\u001b[0;34m)\u001b[0m\u001b[0;34m\u001b[0m\u001b[0;34m\u001b[0m\u001b[0m\n\u001b[0m\u001b[1;32m     52\u001b[0m             \u001b[0mtracks_df\u001b[0m \u001b[0;34m=\u001b[0m \u001b[0mtracks_df\u001b[0m\u001b[0;34m.\u001b[0m\u001b[0mappend\u001b[0m\u001b[0;34m(\u001b[0m\u001b[0mplist_tracks\u001b[0m\u001b[0;34m)\u001b[0m\u001b[0;34m\u001b[0m\u001b[0;34m\u001b[0m\u001b[0m\n\u001b[1;32m     53\u001b[0m         \u001b[0;32mreturn\u001b[0m \u001b[0mtracks_df\u001b[0m\u001b[0;34m\u001b[0m\u001b[0;34m\u001b[0m\u001b[0m\n",
      "\u001b[0;31mAttributeError\u001b[0m: 'int' object has no attribute 'loc'"
     ]
    }
   ],
   "source": [
    "ben_acct.get_all_playlist_tracks(ben_acct.personal_playlists[0:2])"
   ]
  },
  {
   "cell_type": "code",
   "execution_count": 21,
   "id": "52ec5ac7",
   "metadata": {},
   "outputs": [],
   "source": [
    "test_df = ben_acct.personal_playlists[0:2]"
   ]
  },
  {
   "cell_type": "code",
   "execution_count": 12,
   "id": "6f788f52",
   "metadata": {},
   "outputs": [
    {
     "data": {
      "text/html": [
       "<div>\n",
       "<style scoped>\n",
       "    .dataframe tbody tr th:only-of-type {\n",
       "        vertical-align: middle;\n",
       "    }\n",
       "\n",
       "    .dataframe tbody tr th {\n",
       "        vertical-align: top;\n",
       "    }\n",
       "\n",
       "    .dataframe thead th {\n",
       "        text-align: right;\n",
       "    }\n",
       "</style>\n",
       "<table border=\"1\" class=\"dataframe\">\n",
       "  <thead>\n",
       "    <tr style=\"text-align: right;\">\n",
       "      <th></th>\n",
       "      <th>playlist_name</th>\n",
       "      <th>playlist_id</th>\n",
       "      <th>owner_name</th>\n",
       "      <th>owner_id</th>\n",
       "      <th>num_tracks</th>\n",
       "      <th>collaborative</th>\n",
       "    </tr>\n",
       "  </thead>\n",
       "  <tbody>\n",
       "    <tr>\n",
       "      <th>0</th>\n",
       "      <td>Ben's Music Charcuterie</td>\n",
       "      <td>4AgXIKASWMr5rsjloJNPrP</td>\n",
       "      <td>BDKnight</td>\n",
       "      <td>yaojxcyh5tczzlln0ygm9sfla</td>\n",
       "      <td>87</td>\n",
       "      <td>False</td>\n",
       "    </tr>\n",
       "    <tr>\n",
       "      <th>1</th>\n",
       "      <td>Marcy's Music Recs</td>\n",
       "      <td>5fwPrcSx7AeHaddJgU4Um6</td>\n",
       "      <td>BDKnight</td>\n",
       "      <td>yaojxcyh5tczzlln0ygm9sfla</td>\n",
       "      <td>30</td>\n",
       "      <td>False</td>\n",
       "    </tr>\n",
       "  </tbody>\n",
       "</table>\n",
       "</div>"
      ],
      "text/plain": [
       "             playlist_name             playlist_id owner_name  \\\n",
       "0  Ben's Music Charcuterie  4AgXIKASWMr5rsjloJNPrP   BDKnight   \n",
       "1       Marcy's Music Recs  5fwPrcSx7AeHaddJgU4Um6   BDKnight   \n",
       "\n",
       "                    owner_id  num_tracks  collaborative  \n",
       "0  yaojxcyh5tczzlln0ygm9sfla          87          False  \n",
       "1  yaojxcyh5tczzlln0ygm9sfla          30          False  "
      ]
     },
     "execution_count": 12,
     "metadata": {},
     "output_type": "execute_result"
    }
   ],
   "source": [
    "ben_acct.personal_playlists[0:2]"
   ]
  },
  {
   "cell_type": "code",
   "execution_count": null,
   "id": "bbc6082a",
   "metadata": {},
   "outputs": [],
   "source": [
    "ben_acct.playlists"
   ]
  },
  {
   "cell_type": "code",
   "execution_count": null,
   "id": "b7f8995f",
   "metadata": {},
   "outputs": [],
   "source": [
    "cassie_acct.personal_playlists['num_tracks'].sum()"
   ]
  },
  {
   "cell_type": "code",
   "execution_count": null,
   "id": "3f61d601",
   "metadata": {},
   "outputs": [],
   "source": [
    "ben_acct.personal_playlists['num_tracks'].sum()"
   ]
  },
  {
   "cell_type": "code",
   "execution_count": null,
   "id": "0d527860",
   "metadata": {},
   "outputs": [],
   "source": [
    "collab_filter = (ben_acct.playlists['collaborative'] == True) & (ben_acct.playlists['owner_name'] != self.name)\n",
    "personal_filter = ben_acct.playlists['owner_name'] == self.name"
   ]
  },
  {
   "cell_type": "code",
   "execution_count": null,
   "id": "72c8e3a0",
   "metadata": {},
   "outputs": [],
   "source": [
    "ben_acct.name"
   ]
  },
  {
   "cell_type": "code",
   "execution_count": null,
   "id": "0435d1d1",
   "metadata": {},
   "outputs": [],
   "source": [
    "import timeit"
   ]
  },
  {
   "cell_type": "code",
   "execution_count": null,
   "id": "8da2d2b8",
   "metadata": {},
   "outputs": [],
   "source": []
  },
  {
   "cell_type": "code",
   "execution_count": null,
   "id": "b9112f6d",
   "metadata": {},
   "outputs": [],
   "source": []
  },
  {
   "cell_type": "code",
   "execution_count": null,
   "id": "5db2f673",
   "metadata": {
    "scrolled": false
   },
   "outputs": [],
   "source": [
    "start = timeit.default_timer()\n",
    "ben_list = ben_acct.playlist_tracks('4AgXIKASWMr5rsjloJNPrP')\n",
    "end = timeit.default_timer()\n",
    "diff = end - start\n",
    "print(f'{diff} sec for {len(ben_list)} entries; ~{diff//len(ben_list)} per 1')"
   ]
  },
  {
   "cell_type": "code",
   "execution_count": null,
   "id": "d4e02c51",
   "metadata": {
    "scrolled": true
   },
   "outputs": [],
   "source": [
    "ben_acct.playlists"
   ]
  },
  {
   "cell_type": "code",
   "execution_count": null,
   "id": "bbefb76b",
   "metadata": {},
   "outputs": [],
   "source": [
    "ben_acct.id, ben_acct.name"
   ]
  },
  {
   "cell_type": "code",
   "execution_count": null,
   "id": "93ceb264",
   "metadata": {},
   "outputs": [],
   "source": []
  }
 ],
 "metadata": {
  "kernelspec": {
   "display_name": "Python 3",
   "language": "python",
   "name": "python3"
  },
  "language_info": {
   "codemirror_mode": {
    "name": "ipython",
    "version": 3
   },
   "file_extension": ".py",
   "mimetype": "text/x-python",
   "name": "python",
   "nbconvert_exporter": "python",
   "pygments_lexer": "ipython3",
   "version": "3.8.5"
  }
 },
 "nbformat": 4,
 "nbformat_minor": 5
}
