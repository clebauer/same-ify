{
 "cells": [
  {
   "cell_type": "code",
   "execution_count": 168,
   "metadata": {},
   "outputs": [],
   "source": [
    "# ********** Import Statements ************************************************************ #\n",
    "import sys\n",
    "import spotipy\n",
    "import spotipy.util as util\n",
    "\n",
    "import pandas as pd\n",
    "import math"
   ]
  },
  {
   "cell_type": "code",
   "execution_count": 169,
   "metadata": {},
   "outputs": [],
   "source": [
    "user_ids = {'Cassie':'1242091675',\n",
    "            'Caity':'12166088827',\n",
    "            'Ben':'yaojxcyh5tczzlln0ygm9sfla'}"
   ]
  },
  {
   "cell_type": "code",
   "execution_count": 170,
   "metadata": {},
   "outputs": [],
   "source": [
    "class Sameify:\n",
    "    # Spotify credentials\n",
    "    scope = 'user-library-read'\n",
    "    #client_id removed\n",
    "    #client_secret removed\n",
    "    redirect_uri = 'http://localhost:1410/'\n",
    "\n",
    "    # Connects to Spotify\n",
    "    def spotify_connect(self):\n",
    "        token = util.prompt_for_user_token(self.id,\n",
    "                                            self.scope,\n",
    "                                            self.client_id,\n",
    "                                            self.client_secret,\n",
    "                                            self.redirect_uri)\n",
    "\n",
    "        sp = spotipy.Spotify(auth=token)\n",
    "        return sp\n",
    "    \n",
    "    #def overstep_limit(self, item_id):\n",
    "\n",
    "    def get_playlist_id(self, playlist_name):\n",
    "        return self.playlists.loc[self.playlists['playlist_name'] == playlist_name,'playlist_id'].values[0]\n",
    "    \n",
    "    def get_playlist_name(self, playlist_id):\n",
    "        return self.playlists.loc[self.playlists['playlist_id'] == playlist_id,'playlist_name'].values[0]\n",
    "    \n",
    "    def playlist_tracks(self, playlist_id):\n",
    "        ret_df = pd.DataFrame()\n",
    "        \n",
    "        playlist = self.sp.user_playlist_tracks(self.id, playlist_id)\n",
    "        playlist_name = self.get_playlist_name(playlist_id)\n",
    "        tracks = playlist['items']\n",
    "        \n",
    "        while playlist['next']:\n",
    "            playlist = self.sp.next(playlist)\n",
    "            tracks.extend(playlist['items'])\n",
    "            \n",
    "        for track in tracks:\n",
    "            x = track['track']\n",
    "            data = {'playlist_id'  : playlist_id,\n",
    "                    'playlist_name': playlist_name,\n",
    "                    'track_name'   : x['name'],\n",
    "                    'track_id'     : x['id'], \n",
    "                    'track_artist' : x['artists'][0]['name'], #[artist['name'] for artist in x['artists']]\n",
    "                    'added_by'     : track['added_by']['id'],\n",
    "                    'added_at'     : track['added_at']\n",
    "                   }\n",
    "            data_df = pd.DataFrame([data])\n",
    "            song_deets = pd.DataFrame(self.sp.audio_features(data['track_id']))\n",
    "            \n",
    "            full_data = pd.concat([data_df, song_deets],axis=1)\n",
    "            \n",
    "            ret_df = ret_df.append(full_data)\n",
    "        ret_df.reset_index(drop=True, inplace=True)\n",
    "        return ret_df\n",
    "            \n",
    "        \n",
    "    def get_all_playlists(self):\n",
    "        playlists = pd.DataFrame()\n",
    "        \n",
    "        total = self.sp.user_playlists(self.id)['total'] #number of playlists\n",
    "        limit = 50 # pull at a time\n",
    "        \n",
    "        for x in range(0, total, limit): # for each set of playlists\n",
    "            new_playlist = self.sp.user_playlists(self.id, limit=limit, offset=x)\n",
    "            for x in new_playlist['items']:\n",
    "                items = {'playlist_name': x['name'],\n",
    "                         'playlist_id'  : x['id'],\n",
    "                         'owner_name'   : x['owner']['display_name'],\n",
    "                         'owner_id'     : x['owner']['id'],\n",
    "                         'num_tracks'   : x['tracks']['total'],\n",
    "                         'collaborative': x['collaborative'],\n",
    "                         }\n",
    "                playlists = playlists.append(pd.DataFrame([items]))\n",
    "        playlists.reset_index(drop=True, inplace=True)\n",
    "        return playlists\n",
    "    \n",
    "\n",
    "    def __init__(self, user_id):\n",
    "        self.id = user_id\n",
    "        # Connect to Spotify\n",
    "        self.sp = self.spotify_connect()\n",
    "        self.playlists = self.get_all_playlists() \n",
    "        #self.playlist_tracks = self.get_all_playlist_tracks(self.playlists['playlist_id'][0])"
   ]
  },
  {
   "cell_type": "code",
   "execution_count": 171,
   "metadata": {},
   "outputs": [],
   "source": [
    "Cassie = Sameify(user_ids['Cassie'])\n",
    "#Cassie.playlists"
   ]
  },
  {
   "cell_type": "code",
   "execution_count": 172,
   "metadata": {},
   "outputs": [],
   "source": [
    "Caity = Sameify(user_ids['Caity'])"
   ]
  },
  {
   "cell_type": "code",
   "execution_count": 42,
   "metadata": {},
   "outputs": [],
   "source": [
    "Ben = Sameify(user_ids['Ben'])"
   ]
  },
  {
   "cell_type": "code",
   "execution_count": 43,
   "metadata": {},
   "outputs": [],
   "source": [
    "import matplotlib.pyplot as plt\n",
    "\n",
    "import seaborn as sns"
   ]
  },
  {
   "cell_type": "code",
   "execution_count": 173,
   "metadata": {
    "scrolled": true
   },
   "outputs": [
    {
     "data": {
      "text/html": [
       "<div>\n",
       "<style scoped>\n",
       "    .dataframe tbody tr th:only-of-type {\n",
       "        vertical-align: middle;\n",
       "    }\n",
       "\n",
       "    .dataframe tbody tr th {\n",
       "        vertical-align: top;\n",
       "    }\n",
       "\n",
       "    .dataframe thead th {\n",
       "        text-align: right;\n",
       "    }\n",
       "</style>\n",
       "<table border=\"1\" class=\"dataframe\">\n",
       "  <thead>\n",
       "    <tr style=\"text-align: right;\">\n",
       "      <th></th>\n",
       "      <th>playlist_name</th>\n",
       "      <th>playlist_id</th>\n",
       "      <th>owner_name</th>\n",
       "      <th>owner_id</th>\n",
       "      <th>num_tracks</th>\n",
       "      <th>collaborative</th>\n",
       "    </tr>\n",
       "  </thead>\n",
       "  <tbody>\n",
       "    <tr>\n",
       "      <th>0</th>\n",
       "      <td>Autumn Commitments</td>\n",
       "      <td>43zuMTTUeKeMGEtc0nKWC7</td>\n",
       "      <td>Caity Gebs</td>\n",
       "      <td>12166088827</td>\n",
       "      <td>9</td>\n",
       "      <td>False</td>\n",
       "    </tr>\n",
       "    <tr>\n",
       "      <th>1</th>\n",
       "      <td>Summer's End</td>\n",
       "      <td>6TACVg1pvlkL2wR1dncSKv</td>\n",
       "      <td>Caity Gebs</td>\n",
       "      <td>12166088827</td>\n",
       "      <td>15</td>\n",
       "      <td>False</td>\n",
       "    </tr>\n",
       "    <tr>\n",
       "      <th>2</th>\n",
       "      <td>Thinking About You</td>\n",
       "      <td>3v4UlnLlYFq0e2YVe7BSS7</td>\n",
       "      <td>Caity Gebs</td>\n",
       "      <td>12166088827</td>\n",
       "      <td>2</td>\n",
       "      <td>False</td>\n",
       "    </tr>\n",
       "    <tr>\n",
       "      <th>3</th>\n",
       "      <td>Hello Darkness</td>\n",
       "      <td>0pwqyA3jOzhbghXx6DMZeW</td>\n",
       "      <td>Caity Gebs</td>\n",
       "      <td>12166088827</td>\n",
       "      <td>9</td>\n",
       "      <td>False</td>\n",
       "    </tr>\n",
       "    <tr>\n",
       "      <th>4</th>\n",
       "      <td>Create feeling</td>\n",
       "      <td>1dy4F5iapCJfApwaU2NjCw</td>\n",
       "      <td>Caity Gebs</td>\n",
       "      <td>12166088827</td>\n",
       "      <td>9</td>\n",
       "      <td>False</td>\n",
       "    </tr>\n",
       "    <tr>\n",
       "      <th>5</th>\n",
       "      <td>Hey sun</td>\n",
       "      <td>5HW4FjPQySFEqOUT3z0tyb</td>\n",
       "      <td>Caity Gebs</td>\n",
       "      <td>12166088827</td>\n",
       "      <td>30</td>\n",
       "      <td>False</td>\n",
       "    </tr>\n",
       "    <tr>\n",
       "      <th>6</th>\n",
       "      <td>Spring Rain</td>\n",
       "      <td>4LA5gM51FQ4o47CEXYMdnk</td>\n",
       "      <td>Caity Gebs</td>\n",
       "      <td>12166088827</td>\n",
       "      <td>14</td>\n",
       "      <td>False</td>\n",
       "    </tr>\n",
       "    <tr>\n",
       "      <th>7</th>\n",
       "      <td>Mr. Disco Pop Pants</td>\n",
       "      <td>2yTKs1hWeelaLgVLvlt0JY</td>\n",
       "      <td>Caity Gebs</td>\n",
       "      <td>12166088827</td>\n",
       "      <td>14</td>\n",
       "      <td>False</td>\n",
       "    </tr>\n",
       "    <tr>\n",
       "      <th>8</th>\n",
       "      <td>Disco Potato</td>\n",
       "      <td>1RoNSmacXyWOJ4w6h1AY5d</td>\n",
       "      <td>Caity Gebs</td>\n",
       "      <td>12166088827</td>\n",
       "      <td>16</td>\n",
       "      <td>False</td>\n",
       "    </tr>\n",
       "    <tr>\n",
       "      <th>9</th>\n",
       "      <td>Mic Drop</td>\n",
       "      <td>6qboEGGYNIRB1wuCkXAMUq</td>\n",
       "      <td>Caity Gebs</td>\n",
       "      <td>12166088827</td>\n",
       "      <td>19</td>\n",
       "      <td>False</td>\n",
       "    </tr>\n",
       "    <tr>\n",
       "      <th>10</th>\n",
       "      <td>A Softer World</td>\n",
       "      <td>31MhQaLauEjJu7MyanOBB4</td>\n",
       "      <td>Caity Gebs</td>\n",
       "      <td>12166088827</td>\n",
       "      <td>23</td>\n",
       "      <td>False</td>\n",
       "    </tr>\n",
       "    <tr>\n",
       "      <th>11</th>\n",
       "      <td>New Year New Uh</td>\n",
       "      <td>3971Xs8ICRFYNo1GOlmomm</td>\n",
       "      <td>Caity Gebs</td>\n",
       "      <td>12166088827</td>\n",
       "      <td>33</td>\n",
       "      <td>False</td>\n",
       "    </tr>\n",
       "    <tr>\n",
       "      <th>12</th>\n",
       "      <td>Season of the Witch</td>\n",
       "      <td>0q9FkYgj3P6L4AHXyC0DvT</td>\n",
       "      <td>Caity Gebs</td>\n",
       "      <td>12166088827</td>\n",
       "      <td>40</td>\n",
       "      <td>False</td>\n",
       "    </tr>\n",
       "    <tr>\n",
       "      <th>13</th>\n",
       "      <td>Summer 2018</td>\n",
       "      <td>30h3j13yuQ8POpLcfruUEi</td>\n",
       "      <td>Caity Gebs</td>\n",
       "      <td>12166088827</td>\n",
       "      <td>25</td>\n",
       "      <td>False</td>\n",
       "    </tr>\n",
       "    <tr>\n",
       "      <th>14</th>\n",
       "      <td>Falling into Fall</td>\n",
       "      <td>37mQwIciC9aCfXMIA9CLzF</td>\n",
       "      <td>Caity Gebs</td>\n",
       "      <td>12166088827</td>\n",
       "      <td>44</td>\n",
       "      <td>False</td>\n",
       "    </tr>\n",
       "    <tr>\n",
       "      <th>15</th>\n",
       "      <td>Is it winter already</td>\n",
       "      <td>0FQ8AXmSHq9YLBd9IWa9eW</td>\n",
       "      <td>Caity Gebs</td>\n",
       "      <td>12166088827</td>\n",
       "      <td>29</td>\n",
       "      <td>False</td>\n",
       "    </tr>\n",
       "    <tr>\n",
       "      <th>16</th>\n",
       "      <td>Soft/Hard Sounds</td>\n",
       "      <td>4p56fQn2q6NZOoQnfvn56f</td>\n",
       "      <td>Caity Gebs</td>\n",
       "      <td>12166088827</td>\n",
       "      <td>103</td>\n",
       "      <td>False</td>\n",
       "    </tr>\n",
       "    <tr>\n",
       "      <th>17</th>\n",
       "      <td>joey's super-short-pick-me-up-kick-butt set</td>\n",
       "      <td>2Rbf3rvw3SZczvTfMkl597</td>\n",
       "      <td>Caity Gebs</td>\n",
       "      <td>12166088827</td>\n",
       "      <td>5</td>\n",
       "      <td>False</td>\n",
       "    </tr>\n",
       "    <tr>\n",
       "      <th>18</th>\n",
       "      <td>sexy sexy</td>\n",
       "      <td>4xpR3q1aXMY1zML2vu3sem</td>\n",
       "      <td>Caity Gebs</td>\n",
       "      <td>12166088827</td>\n",
       "      <td>34</td>\n",
       "      <td>False</td>\n",
       "    </tr>\n",
       "    <tr>\n",
       "      <th>19</th>\n",
       "      <td>Christmukkah Crush</td>\n",
       "      <td>1GD1itLXc1ZyO32Ljka0dI</td>\n",
       "      <td>Caity Gebs</td>\n",
       "      <td>12166088827</td>\n",
       "      <td>30</td>\n",
       "      <td>False</td>\n",
       "    </tr>\n",
       "    <tr>\n",
       "      <th>20</th>\n",
       "      <td>Wicked ♀</td>\n",
       "      <td>3BxniMN2zpePY30joSVvE7</td>\n",
       "      <td>Caity Gebs</td>\n",
       "      <td>12166088827</td>\n",
       "      <td>31</td>\n",
       "      <td>False</td>\n",
       "    </tr>\n",
       "    <tr>\n",
       "      <th>21</th>\n",
       "      <td>Come Fly With Me</td>\n",
       "      <td>4tvoOM8DibsPjeiY71v2GE</td>\n",
       "      <td>Caity Gebs</td>\n",
       "      <td>12166088827</td>\n",
       "      <td>4</td>\n",
       "      <td>False</td>\n",
       "    </tr>\n",
       "    <tr>\n",
       "      <th>22</th>\n",
       "      <td>A Room of My Own</td>\n",
       "      <td>628quEExJSvtpPhkNnRCkT</td>\n",
       "      <td>Caity Gebs</td>\n",
       "      <td>12166088827</td>\n",
       "      <td>12</td>\n",
       "      <td>False</td>\n",
       "    </tr>\n",
       "    <tr>\n",
       "      <th>23</th>\n",
       "      <td>Soda Pop</td>\n",
       "      <td>3KaT99O8UsmRjW5yliwAJG</td>\n",
       "      <td>Caity Gebs</td>\n",
       "      <td>12166088827</td>\n",
       "      <td>26</td>\n",
       "      <td>False</td>\n",
       "    </tr>\n",
       "    <tr>\n",
       "      <th>24</th>\n",
       "      <td>Grandpa's Jazz</td>\n",
       "      <td>0GyqT5nMyRqkzW2PdhN8DF</td>\n",
       "      <td>Caity Gebs</td>\n",
       "      <td>12166088827</td>\n",
       "      <td>6</td>\n",
       "      <td>False</td>\n",
       "    </tr>\n",
       "    <tr>\n",
       "      <th>25</th>\n",
       "      <td>Better than coffee? Not quite, but close.</td>\n",
       "      <td>1RcbUVKzpoexpjGo1MUAxd</td>\n",
       "      <td>Caity Gebs</td>\n",
       "      <td>12166088827</td>\n",
       "      <td>21</td>\n",
       "      <td>False</td>\n",
       "    </tr>\n",
       "    <tr>\n",
       "      <th>26</th>\n",
       "      <td>Love &amp; Sunshine</td>\n",
       "      <td>7N0JWNCCJpO9rpLqhaYhiu</td>\n",
       "      <td>Caity Gebs</td>\n",
       "      <td>12166088827</td>\n",
       "      <td>70</td>\n",
       "      <td>False</td>\n",
       "    </tr>\n",
       "    <tr>\n",
       "      <th>27</th>\n",
       "      <td>Pet Rock Collection</td>\n",
       "      <td>0wKfGzTSIHiOztheJlTQ4G</td>\n",
       "      <td>Caity Gebs</td>\n",
       "      <td>12166088827</td>\n",
       "      <td>127</td>\n",
       "      <td>False</td>\n",
       "    </tr>\n",
       "    <tr>\n",
       "      <th>28</th>\n",
       "      <td>Brain Waves</td>\n",
       "      <td>5fGUy0iXNPT2BlD7Lwwl2x</td>\n",
       "      <td>Caity Gebs</td>\n",
       "      <td>12166088827</td>\n",
       "      <td>38</td>\n",
       "      <td>False</td>\n",
       "    </tr>\n",
       "    <tr>\n",
       "      <th>29</th>\n",
       "      <td>Ye Olde Breakup Playlist</td>\n",
       "      <td>7lugzAuiISED0wX0nz1YJZ</td>\n",
       "      <td>Caity Gebs</td>\n",
       "      <td>12166088827</td>\n",
       "      <td>64</td>\n",
       "      <td>False</td>\n",
       "    </tr>\n",
       "    <tr>\n",
       "      <th>30</th>\n",
       "      <td>Gothic Black and Blues</td>\n",
       "      <td>6ZOZtxsRcqerVWMkrWpbkV</td>\n",
       "      <td>Caity Gebs</td>\n",
       "      <td>12166088827</td>\n",
       "      <td>29</td>\n",
       "      <td>False</td>\n",
       "    </tr>\n",
       "    <tr>\n",
       "      <th>31</th>\n",
       "      <td>With which we build worlds</td>\n",
       "      <td>5zRTiQmHIjUBom8Tvr21pk</td>\n",
       "      <td>Caity Gebs</td>\n",
       "      <td>12166088827</td>\n",
       "      <td>35</td>\n",
       "      <td>False</td>\n",
       "    </tr>\n",
       "    <tr>\n",
       "      <th>32</th>\n",
       "      <td>From chicago</td>\n",
       "      <td>5ayuC3PET0PNlsCrnzwsS0</td>\n",
       "      <td>Caity Gebs</td>\n",
       "      <td>12166088827</td>\n",
       "      <td>42</td>\n",
       "      <td>False</td>\n",
       "    </tr>\n",
       "    <tr>\n",
       "      <th>33</th>\n",
       "      <td>Amazing eyes</td>\n",
       "      <td>5u4JyvsD6lbpoHR1051Uth</td>\n",
       "      <td>Caity Gebs</td>\n",
       "      <td>12166088827</td>\n",
       "      <td>28</td>\n",
       "      <td>False</td>\n",
       "    </tr>\n",
       "    <tr>\n",
       "      <th>34</th>\n",
       "      <td>High Lights</td>\n",
       "      <td>2CQT89Vg91sjBpOm01iUE5</td>\n",
       "      <td>Caity Gebs</td>\n",
       "      <td>12166088827</td>\n",
       "      <td>11</td>\n",
       "      <td>False</td>\n",
       "    </tr>\n",
       "    <tr>\n",
       "      <th>35</th>\n",
       "      <td>Melancholy and Fine</td>\n",
       "      <td>7bQ1jW3F1nnwvY7jse3JbB</td>\n",
       "      <td>Caity Gebs</td>\n",
       "      <td>12166088827</td>\n",
       "      <td>43</td>\n",
       "      <td>False</td>\n",
       "    </tr>\n",
       "    <tr>\n",
       "      <th>36</th>\n",
       "      <td>Future Wife 3000</td>\n",
       "      <td>0bGPQCyK9wzJPCbO6bdFjn</td>\n",
       "      <td>Caity Gebs</td>\n",
       "      <td>12166088827</td>\n",
       "      <td>29</td>\n",
       "      <td>False</td>\n",
       "    </tr>\n",
       "    <tr>\n",
       "      <th>37</th>\n",
       "      <td>Melt</td>\n",
       "      <td>3t4E1rcb9K0YybBTzqfJAV</td>\n",
       "      <td>Caity Gebs</td>\n",
       "      <td>12166088827</td>\n",
       "      <td>13</td>\n",
       "      <td>False</td>\n",
       "    </tr>\n",
       "    <tr>\n",
       "      <th>38</th>\n",
       "      <td>Jazz dance and bop</td>\n",
       "      <td>7MPMf8Z1OY1J74EOQBEc1x</td>\n",
       "      <td>Caity Gebs</td>\n",
       "      <td>12166088827</td>\n",
       "      <td>13</td>\n",
       "      <td>False</td>\n",
       "    </tr>\n",
       "    <tr>\n",
       "      <th>39</th>\n",
       "      <td>#polycomm</td>\n",
       "      <td>2eGyzWczevWQnuQhZsgefw</td>\n",
       "      <td>Caity Gebs</td>\n",
       "      <td>12166088827</td>\n",
       "      <td>288</td>\n",
       "      <td>False</td>\n",
       "    </tr>\n",
       "    <tr>\n",
       "      <th>40</th>\n",
       "      <td>Dance Dance Party Party</td>\n",
       "      <td>5rx4c9qLMrRL2xBzGycHir</td>\n",
       "      <td>Caity Gebs</td>\n",
       "      <td>12166088827</td>\n",
       "      <td>30</td>\n",
       "      <td>False</td>\n",
       "    </tr>\n",
       "    <tr>\n",
       "      <th>41</th>\n",
       "      <td>My Shazam Tracks</td>\n",
       "      <td>6okb3XB5Es11XDPXokVYSM</td>\n",
       "      <td>Caity Gebs</td>\n",
       "      <td>12166088827</td>\n",
       "      <td>57</td>\n",
       "      <td>False</td>\n",
       "    </tr>\n",
       "    <tr>\n",
       "      <th>42</th>\n",
       "      <td>Nouveau Gypsy</td>\n",
       "      <td>4TP6M0HFzAHYBLONsbgQ8K</td>\n",
       "      <td>Caity Gebs</td>\n",
       "      <td>12166088827</td>\n",
       "      <td>47</td>\n",
       "      <td>False</td>\n",
       "    </tr>\n",
       "    <tr>\n",
       "      <th>43</th>\n",
       "      <td>Mindslayer</td>\n",
       "      <td>07kjFGzP6PoFRQNAibLaHw</td>\n",
       "      <td>Caity Gebs</td>\n",
       "      <td>12166088827</td>\n",
       "      <td>34</td>\n",
       "      <td>False</td>\n",
       "    </tr>\n",
       "    <tr>\n",
       "      <th>44</th>\n",
       "      <td>#fascinating</td>\n",
       "      <td>3vmzhHWqTlDVUVKilIqoPL</td>\n",
       "      <td>Caity Gebs</td>\n",
       "      <td>12166088827</td>\n",
       "      <td>33</td>\n",
       "      <td>False</td>\n",
       "    </tr>\n",
       "    <tr>\n",
       "      <th>45</th>\n",
       "      <td>ALT J</td>\n",
       "      <td>42Qa7t2Raj4jLinJ1ZisRl</td>\n",
       "      <td>Caity Gebs</td>\n",
       "      <td>12166088827</td>\n",
       "      <td>14</td>\n",
       "      <td>False</td>\n",
       "    </tr>\n",
       "    <tr>\n",
       "      <th>46</th>\n",
       "      <td>alt-j bonus</td>\n",
       "      <td>3NDcTnlNTMzCeiGN0agwQG</td>\n",
       "      <td>Caity Gebs</td>\n",
       "      <td>12166088827</td>\n",
       "      <td>1</td>\n",
       "      <td>False</td>\n",
       "    </tr>\n",
       "    <tr>\n",
       "      <th>47</th>\n",
       "      <td>Best</td>\n",
       "      <td>2OZMFW8dQPge7eOlfutEgf</td>\n",
       "      <td>Caity Gebs</td>\n",
       "      <td>12166088827</td>\n",
       "      <td>10</td>\n",
       "      <td>False</td>\n",
       "    </tr>\n",
       "    <tr>\n",
       "      <th>48</th>\n",
       "      <td>Caravan Palace - Caravan Palace / Panic (2 alb...</td>\n",
       "      <td>6l9ewF9JCscjTM58wBuce3</td>\n",
       "      <td>Caity Gebs</td>\n",
       "      <td>12166088827</td>\n",
       "      <td>29</td>\n",
       "      <td>False</td>\n",
       "    </tr>\n",
       "  </tbody>\n",
       "</table>\n",
       "</div>"
      ],
      "text/plain": [
       "                                        playlist_name             playlist_id  \\\n",
       "0                                  Autumn Commitments  43zuMTTUeKeMGEtc0nKWC7   \n",
       "1                                        Summer's End  6TACVg1pvlkL2wR1dncSKv   \n",
       "2                                  Thinking About You  3v4UlnLlYFq0e2YVe7BSS7   \n",
       "3                                      Hello Darkness  0pwqyA3jOzhbghXx6DMZeW   \n",
       "4                                      Create feeling  1dy4F5iapCJfApwaU2NjCw   \n",
       "5                                             Hey sun  5HW4FjPQySFEqOUT3z0tyb   \n",
       "6                                         Spring Rain  4LA5gM51FQ4o47CEXYMdnk   \n",
       "7                                 Mr. Disco Pop Pants  2yTKs1hWeelaLgVLvlt0JY   \n",
       "8                                        Disco Potato  1RoNSmacXyWOJ4w6h1AY5d   \n",
       "9                                            Mic Drop  6qboEGGYNIRB1wuCkXAMUq   \n",
       "10                                     A Softer World  31MhQaLauEjJu7MyanOBB4   \n",
       "11                                    New Year New Uh  3971Xs8ICRFYNo1GOlmomm   \n",
       "12                                Season of the Witch  0q9FkYgj3P6L4AHXyC0DvT   \n",
       "13                                        Summer 2018  30h3j13yuQ8POpLcfruUEi   \n",
       "14                                  Falling into Fall  37mQwIciC9aCfXMIA9CLzF   \n",
       "15                               Is it winter already  0FQ8AXmSHq9YLBd9IWa9eW   \n",
       "16                                   Soft/Hard Sounds  4p56fQn2q6NZOoQnfvn56f   \n",
       "17        joey's super-short-pick-me-up-kick-butt set  2Rbf3rvw3SZczvTfMkl597   \n",
       "18                                          sexy sexy  4xpR3q1aXMY1zML2vu3sem   \n",
       "19                                 Christmukkah Crush  1GD1itLXc1ZyO32Ljka0dI   \n",
       "20                                           Wicked ♀  3BxniMN2zpePY30joSVvE7   \n",
       "21                                   Come Fly With Me  4tvoOM8DibsPjeiY71v2GE   \n",
       "22                                   A Room of My Own  628quEExJSvtpPhkNnRCkT   \n",
       "23                                           Soda Pop  3KaT99O8UsmRjW5yliwAJG   \n",
       "24                                     Grandpa's Jazz  0GyqT5nMyRqkzW2PdhN8DF   \n",
       "25          Better than coffee? Not quite, but close.  1RcbUVKzpoexpjGo1MUAxd   \n",
       "26                                    Love & Sunshine  7N0JWNCCJpO9rpLqhaYhiu   \n",
       "27                                Pet Rock Collection  0wKfGzTSIHiOztheJlTQ4G   \n",
       "28                                        Brain Waves  5fGUy0iXNPT2BlD7Lwwl2x   \n",
       "29                           Ye Olde Breakup Playlist  7lugzAuiISED0wX0nz1YJZ   \n",
       "30                             Gothic Black and Blues  6ZOZtxsRcqerVWMkrWpbkV   \n",
       "31                         With which we build worlds  5zRTiQmHIjUBom8Tvr21pk   \n",
       "32                                       From chicago  5ayuC3PET0PNlsCrnzwsS0   \n",
       "33                                       Amazing eyes  5u4JyvsD6lbpoHR1051Uth   \n",
       "34                                        High Lights  2CQT89Vg91sjBpOm01iUE5   \n",
       "35                                Melancholy and Fine  7bQ1jW3F1nnwvY7jse3JbB   \n",
       "36                                   Future Wife 3000  0bGPQCyK9wzJPCbO6bdFjn   \n",
       "37                                               Melt  3t4E1rcb9K0YybBTzqfJAV   \n",
       "38                                 Jazz dance and bop  7MPMf8Z1OY1J74EOQBEc1x   \n",
       "39                                          #polycomm  2eGyzWczevWQnuQhZsgefw   \n",
       "40                            Dance Dance Party Party  5rx4c9qLMrRL2xBzGycHir   \n",
       "41                                   My Shazam Tracks  6okb3XB5Es11XDPXokVYSM   \n",
       "42                                      Nouveau Gypsy  4TP6M0HFzAHYBLONsbgQ8K   \n",
       "43                                         Mindslayer  07kjFGzP6PoFRQNAibLaHw   \n",
       "44                                       #fascinating  3vmzhHWqTlDVUVKilIqoPL   \n",
       "45                                              ALT J  42Qa7t2Raj4jLinJ1ZisRl   \n",
       "46                                        alt-j bonus  3NDcTnlNTMzCeiGN0agwQG   \n",
       "47                                               Best  2OZMFW8dQPge7eOlfutEgf   \n",
       "48  Caravan Palace - Caravan Palace / Panic (2 alb...  6l9ewF9JCscjTM58wBuce3   \n",
       "\n",
       "    owner_name     owner_id  num_tracks  collaborative  \n",
       "0   Caity Gebs  12166088827           9          False  \n",
       "1   Caity Gebs  12166088827          15          False  \n",
       "2   Caity Gebs  12166088827           2          False  \n",
       "3   Caity Gebs  12166088827           9          False  \n",
       "4   Caity Gebs  12166088827           9          False  \n",
       "5   Caity Gebs  12166088827          30          False  \n",
       "6   Caity Gebs  12166088827          14          False  \n",
       "7   Caity Gebs  12166088827          14          False  \n",
       "8   Caity Gebs  12166088827          16          False  \n",
       "9   Caity Gebs  12166088827          19          False  \n",
       "10  Caity Gebs  12166088827          23          False  \n",
       "11  Caity Gebs  12166088827          33          False  \n",
       "12  Caity Gebs  12166088827          40          False  \n",
       "13  Caity Gebs  12166088827          25          False  \n",
       "14  Caity Gebs  12166088827          44          False  \n",
       "15  Caity Gebs  12166088827          29          False  \n",
       "16  Caity Gebs  12166088827         103          False  \n",
       "17  Caity Gebs  12166088827           5          False  \n",
       "18  Caity Gebs  12166088827          34          False  \n",
       "19  Caity Gebs  12166088827          30          False  \n",
       "20  Caity Gebs  12166088827          31          False  \n",
       "21  Caity Gebs  12166088827           4          False  \n",
       "22  Caity Gebs  12166088827          12          False  \n",
       "23  Caity Gebs  12166088827          26          False  \n",
       "24  Caity Gebs  12166088827           6          False  \n",
       "25  Caity Gebs  12166088827          21          False  \n",
       "26  Caity Gebs  12166088827          70          False  \n",
       "27  Caity Gebs  12166088827         127          False  \n",
       "28  Caity Gebs  12166088827          38          False  \n",
       "29  Caity Gebs  12166088827          64          False  \n",
       "30  Caity Gebs  12166088827          29          False  \n",
       "31  Caity Gebs  12166088827          35          False  \n",
       "32  Caity Gebs  12166088827          42          False  \n",
       "33  Caity Gebs  12166088827          28          False  \n",
       "34  Caity Gebs  12166088827          11          False  \n",
       "35  Caity Gebs  12166088827          43          False  \n",
       "36  Caity Gebs  12166088827          29          False  \n",
       "37  Caity Gebs  12166088827          13          False  \n",
       "38  Caity Gebs  12166088827          13          False  \n",
       "39  Caity Gebs  12166088827         288          False  \n",
       "40  Caity Gebs  12166088827          30          False  \n",
       "41  Caity Gebs  12166088827          57          False  \n",
       "42  Caity Gebs  12166088827          47          False  \n",
       "43  Caity Gebs  12166088827          34          False  \n",
       "44  Caity Gebs  12166088827          33          False  \n",
       "45  Caity Gebs  12166088827          14          False  \n",
       "46  Caity Gebs  12166088827           1          False  \n",
       "47  Caity Gebs  12166088827          10          False  \n",
       "48  Caity Gebs  12166088827          29          False  "
      ]
     },
     "execution_count": 173,
     "metadata": {},
     "output_type": "execute_result"
    }
   ],
   "source": [
    "Caity.playlists"
   ]
  },
  {
   "cell_type": "code",
   "execution_count": 175,
   "metadata": {},
   "outputs": [],
   "source": [
    "happy_playlist = Caity.playlist_tracks(Caity.get_playlist_id('Mr. Disco Pop Pants')) #Breathe me in.\n",
    "sad_playlist = Caity.playlist_tracks(Caity.get_playlist_id('Ye Olde Breakup Playlist')) #Brain Waves"
   ]
  },
  {
   "cell_type": "code",
   "execution_count": 176,
   "metadata": {},
   "outputs": [],
   "source": [
    "def get_right_df(df):\n",
    "    new_df = df[['playlist_name', 'track_id', 'acousticness', 'danceability', 'energy', 'liveness', 'valence', 'speechiness']]\n",
    "    return new_df.melt(id_vars=['playlist_name', 'track_id'])\n",
    "\n",
    "happy_melt = get_right_df(happy_playlist)\n",
    "sad_melt = get_right_df(sad_playlist)"
   ]
  },
  {
   "cell_type": "code",
   "execution_count": 177,
   "metadata": {},
   "outputs": [],
   "source": [
    "melted = happy_melt.append(sad_melt)"
   ]
  },
  {
   "cell_type": "code",
   "execution_count": 178,
   "metadata": {},
   "outputs": [],
   "source": [
    "# http://web.quant-platform.com/trial/yves/Plotly_Cufflinks.html"
   ]
  },
  {
   "cell_type": "code",
   "execution_count": 179,
   "metadata": {},
   "outputs": [
    {
     "data": {
      "image/png": "[encoded data removed]",
      "text/plain": [
       "<Figure size 1440x1080 with 1 Axes>"
      ]
     },
     "metadata": {},
     "output_type": "display_data"
    }
   ],
   "source": [
    "fig, ax = plt.subplots(figsize=(20,15))\n",
    "ax = sns.boxplot(x='variable', y='value', hue='playlist_name', data=melted, palette='Accent')\n",
    "#Valence: https://community.spotify.com/t5/Content-Questions/Valence-as-a-measure-of-happiness/td-p/4385221"
   ]
  },
  {
   "cell_type": "code",
   "execution_count": null,
   "metadata": {},
   "outputs": [],
   "source": [
    "ax = sns.boxplot(x=breathe_playlist['acousticness'])"
   ]
  },
  {
   "cell_type": "code",
   "execution_count": null,
   "metadata": {},
   "outputs": [],
   "source": [
    "fig, ax = plt.subplots()\n",
    "ax.plot(breathe_playlist['acousticness'], 'ro', )\n",
    "ax.plot(breathe_playlist['liveness'], 'bo')\n",
    "ax.plot(breathe_playlist['energy'], 'yo')\n",
    "ax.plot(breathe_playlist['danceability'], 'go')\n",
    "plt.show()"
   ]
  },
  {
   "cell_type": "code",
   "execution_count": 180,
   "metadata": {},
   "outputs": [],
   "source": [
    "poly_playlist = Caity.playlist_tracks(Caity.get_playlist_id('#polycomm'))\n",
    "poly_playlist = poly_playlist.sort_values('added_at').reset_index()\n"
   ]
  },
  {
   "cell_type": "code",
   "execution_count": 131,
   "metadata": {
    "collapsed": true
   },
   "outputs": [
    {
     "data": {
      "text/html": [
       "<div>\n",
       "<style scoped>\n",
       "    .dataframe tbody tr th:only-of-type {\n",
       "        vertical-align: middle;\n",
       "    }\n",
       "\n",
       "    .dataframe tbody tr th {\n",
       "        vertical-align: top;\n",
       "    }\n",
       "\n",
       "    .dataframe thead th {\n",
       "        text-align: right;\n",
       "    }\n",
       "</style>\n",
       "<table border=\"1\" class=\"dataframe\">\n",
       "  <thead>\n",
       "    <tr style=\"text-align: right;\">\n",
       "      <th></th>\n",
       "      <th>0</th>\n",
       "      <th>1</th>\n",
       "      <th>2</th>\n",
       "      <th>3</th>\n",
       "      <th>4</th>\n",
       "    </tr>\n",
       "  </thead>\n",
       "  <tbody>\n",
       "    <tr>\n",
       "      <th>index</th>\n",
       "      <td>0</td>\n",
       "      <td>1</td>\n",
       "      <td>2</td>\n",
       "      <td>3</td>\n",
       "      <td>4</td>\n",
       "    </tr>\n",
       "    <tr>\n",
       "      <th>playlist_id</th>\n",
       "      <td>2eGyzWczevWQnuQhZsgefw</td>\n",
       "      <td>2eGyzWczevWQnuQhZsgefw</td>\n",
       "      <td>2eGyzWczevWQnuQhZsgefw</td>\n",
       "      <td>2eGyzWczevWQnuQhZsgefw</td>\n",
       "      <td>2eGyzWczevWQnuQhZsgefw</td>\n",
       "    </tr>\n",
       "    <tr>\n",
       "      <th>playlist_name</th>\n",
       "      <td>#polycomm</td>\n",
       "      <td>#polycomm</td>\n",
       "      <td>#polycomm</td>\n",
       "      <td>#polycomm</td>\n",
       "      <td>#polycomm</td>\n",
       "    </tr>\n",
       "    <tr>\n",
       "      <th>track_name</th>\n",
       "      <td>Gone</td>\n",
       "      <td>Faded Heart</td>\n",
       "      <td>Wish I Knew You</td>\n",
       "      <td>The Way You Used to Do</td>\n",
       "      <td>Dancing in the Moonlight</td>\n",
       "    </tr>\n",
       "    <tr>\n",
       "      <th>track_id</th>\n",
       "      <td>3mxMrdo3fJjDbb64nagoXR</td>\n",
       "      <td>6TWSVHx6z6E42JiwloGv1k</td>\n",
       "      <td>2EWpa5XnAuSn0sIkSSIhYk</td>\n",
       "      <td>1wsnCfewxZlCs7cJxkaMZM</td>\n",
       "      <td>0q21FNwES2bbtcduB6kjEU</td>\n",
       "    </tr>\n",
       "    <tr>\n",
       "      <th>track_artist</th>\n",
       "      <td>JR JR</td>\n",
       "      <td>BØRNS</td>\n",
       "      <td>The Revivalists</td>\n",
       "      <td>Queens of the Stone Age</td>\n",
       "      <td>King Harvest</td>\n",
       "    </tr>\n",
       "    <tr>\n",
       "      <th>added_by</th>\n",
       "      <td>12166088827</td>\n",
       "      <td>12166088827</td>\n",
       "      <td>12166088827</td>\n",
       "      <td>12166088827</td>\n",
       "      <td>12166088827</td>\n",
       "    </tr>\n",
       "    <tr>\n",
       "      <th>added_at</th>\n",
       "      <td>2017-10-25T14:02:18Z</td>\n",
       "      <td>2017-10-25T14:04:56Z</td>\n",
       "      <td>2017-10-25T14:32:31Z</td>\n",
       "      <td>2017-10-25T14:48:16Z</td>\n",
       "      <td>2017-10-25T14:58:21Z</td>\n",
       "    </tr>\n",
       "    <tr>\n",
       "      <th>danceability</th>\n",
       "      <td>0.62</td>\n",
       "      <td>0.505</td>\n",
       "      <td>0.651</td>\n",
       "      <td>0.474</td>\n",
       "      <td>0.657</td>\n",
       "    </tr>\n",
       "    <tr>\n",
       "      <th>energy</th>\n",
       "      <td>0.892</td>\n",
       "      <td>0.921</td>\n",
       "      <td>0.716</td>\n",
       "      <td>0.843</td>\n",
       "      <td>0.435</td>\n",
       "    </tr>\n",
       "    <tr>\n",
       "      <th>key</th>\n",
       "      <td>2</td>\n",
       "      <td>11</td>\n",
       "      <td>0</td>\n",
       "      <td>0</td>\n",
       "      <td>10</td>\n",
       "    </tr>\n",
       "    <tr>\n",
       "      <th>loudness</th>\n",
       "      <td>-3.664</td>\n",
       "      <td>-4.972</td>\n",
       "      <td>-6.516</td>\n",
       "      <td>-5.909</td>\n",
       "      <td>-15.707</td>\n",
       "    </tr>\n",
       "    <tr>\n",
       "      <th>mode</th>\n",
       "      <td>1</td>\n",
       "      <td>1</td>\n",
       "      <td>0</td>\n",
       "      <td>1</td>\n",
       "      <td>1</td>\n",
       "    </tr>\n",
       "    <tr>\n",
       "      <th>speechiness</th>\n",
       "      <td>0.0531</td>\n",
       "      <td>0.0443</td>\n",
       "      <td>0.0258</td>\n",
       "      <td>0.272</td>\n",
       "      <td>0.0552</td>\n",
       "    </tr>\n",
       "    <tr>\n",
       "      <th>acousticness</th>\n",
       "      <td>0.054</td>\n",
       "      <td>0.0179</td>\n",
       "      <td>0.13</td>\n",
       "      <td>0.0102</td>\n",
       "      <td>0.739</td>\n",
       "    </tr>\n",
       "    <tr>\n",
       "      <th>instrumentalness</th>\n",
       "      <td>0.000687</td>\n",
       "      <td>0.0162</td>\n",
       "      <td>0.0616</td>\n",
       "      <td>0.104</td>\n",
       "      <td>0</td>\n",
       "    </tr>\n",
       "    <tr>\n",
       "      <th>liveness</th>\n",
       "      <td>0.207</td>\n",
       "      <td>0.331</td>\n",
       "      <td>0.125</td>\n",
       "      <td>0.362</td>\n",
       "      <td>0.167</td>\n",
       "    </tr>\n",
       "    <tr>\n",
       "      <th>valence</th>\n",
       "      <td>0.418</td>\n",
       "      <td>0.387</td>\n",
       "      <td>0.722</td>\n",
       "      <td>0.433</td>\n",
       "      <td>0.771</td>\n",
       "    </tr>\n",
       "    <tr>\n",
       "      <th>tempo</th>\n",
       "      <td>129.96</td>\n",
       "      <td>139.954</td>\n",
       "      <td>101.05</td>\n",
       "      <td>97.691</td>\n",
       "      <td>135.975</td>\n",
       "    </tr>\n",
       "    <tr>\n",
       "      <th>type</th>\n",
       "      <td>audio_features</td>\n",
       "      <td>audio_features</td>\n",
       "      <td>audio_features</td>\n",
       "      <td>audio_features</td>\n",
       "      <td>audio_features</td>\n",
       "    </tr>\n",
       "    <tr>\n",
       "      <th>id</th>\n",
       "      <td>3mxMrdo3fJjDbb64nagoXR</td>\n",
       "      <td>6TWSVHx6z6E42JiwloGv1k</td>\n",
       "      <td>2EWpa5XnAuSn0sIkSSIhYk</td>\n",
       "      <td>1wsnCfewxZlCs7cJxkaMZM</td>\n",
       "      <td>0q21FNwES2bbtcduB6kjEU</td>\n",
       "    </tr>\n",
       "    <tr>\n",
       "      <th>uri</th>\n",
       "      <td>spotify:track:3mxMrdo3fJjDbb64nagoXR</td>\n",
       "      <td>spotify:track:6TWSVHx6z6E42JiwloGv1k</td>\n",
       "      <td>spotify:track:2EWpa5XnAuSn0sIkSSIhYk</td>\n",
       "      <td>spotify:track:1wsnCfewxZlCs7cJxkaMZM</td>\n",
       "      <td>spotify:track:0q21FNwES2bbtcduB6kjEU</td>\n",
       "    </tr>\n",
       "    <tr>\n",
       "      <th>track_href</th>\n",
       "      <td>https://api.spotify.com/v1/tracks/3mxMrdo3fJjD...</td>\n",
       "      <td>https://api.spotify.com/v1/tracks/6TWSVHx6z6E4...</td>\n",
       "      <td>https://api.spotify.com/v1/tracks/2EWpa5XnAuSn...</td>\n",
       "      <td>https://api.spotify.com/v1/tracks/1wsnCfewxZlC...</td>\n",
       "      <td>https://api.spotify.com/v1/tracks/0q21FNwES2bb...</td>\n",
       "    </tr>\n",
       "    <tr>\n",
       "      <th>analysis_url</th>\n",
       "      <td>https://api.spotify.com/v1/audio-analysis/3mxM...</td>\n",
       "      <td>https://api.spotify.com/v1/audio-analysis/6TWS...</td>\n",
       "      <td>https://api.spotify.com/v1/audio-analysis/2EWp...</td>\n",
       "      <td>https://api.spotify.com/v1/audio-analysis/1wsn...</td>\n",
       "      <td>https://api.spotify.com/v1/audio-analysis/0q21...</td>\n",
       "    </tr>\n",
       "    <tr>\n",
       "      <th>duration_ms</th>\n",
       "      <td>227507</td>\n",
       "      <td>215048</td>\n",
       "      <td>274093</td>\n",
       "      <td>274282</td>\n",
       "      <td>181133</td>\n",
       "    </tr>\n",
       "    <tr>\n",
       "      <th>time_signature</th>\n",
       "      <td>4</td>\n",
       "      <td>4</td>\n",
       "      <td>4</td>\n",
       "      <td>4</td>\n",
       "      <td>4</td>\n",
       "    </tr>\n",
       "  </tbody>\n",
       "</table>\n",
       "</div>"
      ],
      "text/plain": [
       "                                                                  0  \\\n",
       "index                                                             0   \n",
       "playlist_id                                  2eGyzWczevWQnuQhZsgefw   \n",
       "playlist_name                                             #polycomm   \n",
       "track_name                                                     Gone   \n",
       "track_id                                     3mxMrdo3fJjDbb64nagoXR   \n",
       "track_artist                                                  JR JR   \n",
       "added_by                                                12166088827   \n",
       "added_at                                       2017-10-25T14:02:18Z   \n",
       "danceability                                                   0.62   \n",
       "energy                                                        0.892   \n",
       "key                                                               2   \n",
       "loudness                                                     -3.664   \n",
       "mode                                                              1   \n",
       "speechiness                                                  0.0531   \n",
       "acousticness                                                  0.054   \n",
       "instrumentalness                                           0.000687   \n",
       "liveness                                                      0.207   \n",
       "valence                                                       0.418   \n",
       "tempo                                                        129.96   \n",
       "type                                                 audio_features   \n",
       "id                                           3mxMrdo3fJjDbb64nagoXR   \n",
       "uri                            spotify:track:3mxMrdo3fJjDbb64nagoXR   \n",
       "track_href        https://api.spotify.com/v1/tracks/3mxMrdo3fJjD...   \n",
       "analysis_url      https://api.spotify.com/v1/audio-analysis/3mxM...   \n",
       "duration_ms                                                  227507   \n",
       "time_signature                                                    4   \n",
       "\n",
       "                                                                  1  \\\n",
       "index                                                             1   \n",
       "playlist_id                                  2eGyzWczevWQnuQhZsgefw   \n",
       "playlist_name                                             #polycomm   \n",
       "track_name                                              Faded Heart   \n",
       "track_id                                     6TWSVHx6z6E42JiwloGv1k   \n",
       "track_artist                                                  BØRNS   \n",
       "added_by                                                12166088827   \n",
       "added_at                                       2017-10-25T14:04:56Z   \n",
       "danceability                                                  0.505   \n",
       "energy                                                        0.921   \n",
       "key                                                              11   \n",
       "loudness                                                     -4.972   \n",
       "mode                                                              1   \n",
       "speechiness                                                  0.0443   \n",
       "acousticness                                                 0.0179   \n",
       "instrumentalness                                             0.0162   \n",
       "liveness                                                      0.331   \n",
       "valence                                                       0.387   \n",
       "tempo                                                       139.954   \n",
       "type                                                 audio_features   \n",
       "id                                           6TWSVHx6z6E42JiwloGv1k   \n",
       "uri                            spotify:track:6TWSVHx6z6E42JiwloGv1k   \n",
       "track_href        https://api.spotify.com/v1/tracks/6TWSVHx6z6E4...   \n",
       "analysis_url      https://api.spotify.com/v1/audio-analysis/6TWS...   \n",
       "duration_ms                                                  215048   \n",
       "time_signature                                                    4   \n",
       "\n",
       "                                                                  2  \\\n",
       "index                                                             2   \n",
       "playlist_id                                  2eGyzWczevWQnuQhZsgefw   \n",
       "playlist_name                                             #polycomm   \n",
       "track_name                                          Wish I Knew You   \n",
       "track_id                                     2EWpa5XnAuSn0sIkSSIhYk   \n",
       "track_artist                                        The Revivalists   \n",
       "added_by                                                12166088827   \n",
       "added_at                                       2017-10-25T14:32:31Z   \n",
       "danceability                                                  0.651   \n",
       "energy                                                        0.716   \n",
       "key                                                               0   \n",
       "loudness                                                     -6.516   \n",
       "mode                                                              0   \n",
       "speechiness                                                  0.0258   \n",
       "acousticness                                                   0.13   \n",
       "instrumentalness                                             0.0616   \n",
       "liveness                                                      0.125   \n",
       "valence                                                       0.722   \n",
       "tempo                                                        101.05   \n",
       "type                                                 audio_features   \n",
       "id                                           2EWpa5XnAuSn0sIkSSIhYk   \n",
       "uri                            spotify:track:2EWpa5XnAuSn0sIkSSIhYk   \n",
       "track_href        https://api.spotify.com/v1/tracks/2EWpa5XnAuSn...   \n",
       "analysis_url      https://api.spotify.com/v1/audio-analysis/2EWp...   \n",
       "duration_ms                                                  274093   \n",
       "time_signature                                                    4   \n",
       "\n",
       "                                                                  3  \\\n",
       "index                                                             3   \n",
       "playlist_id                                  2eGyzWczevWQnuQhZsgefw   \n",
       "playlist_name                                             #polycomm   \n",
       "track_name                                   The Way You Used to Do   \n",
       "track_id                                     1wsnCfewxZlCs7cJxkaMZM   \n",
       "track_artist                                Queens of the Stone Age   \n",
       "added_by                                                12166088827   \n",
       "added_at                                       2017-10-25T14:48:16Z   \n",
       "danceability                                                  0.474   \n",
       "energy                                                        0.843   \n",
       "key                                                               0   \n",
       "loudness                                                     -5.909   \n",
       "mode                                                              1   \n",
       "speechiness                                                   0.272   \n",
       "acousticness                                                 0.0102   \n",
       "instrumentalness                                              0.104   \n",
       "liveness                                                      0.362   \n",
       "valence                                                       0.433   \n",
       "tempo                                                        97.691   \n",
       "type                                                 audio_features   \n",
       "id                                           1wsnCfewxZlCs7cJxkaMZM   \n",
       "uri                            spotify:track:1wsnCfewxZlCs7cJxkaMZM   \n",
       "track_href        https://api.spotify.com/v1/tracks/1wsnCfewxZlC...   \n",
       "analysis_url      https://api.spotify.com/v1/audio-analysis/1wsn...   \n",
       "duration_ms                                                  274282   \n",
       "time_signature                                                    4   \n",
       "\n",
       "                                                                  4  \n",
       "index                                                             4  \n",
       "playlist_id                                  2eGyzWczevWQnuQhZsgefw  \n",
       "playlist_name                                             #polycomm  \n",
       "track_name                                 Dancing in the Moonlight  \n",
       "track_id                                     0q21FNwES2bbtcduB6kjEU  \n",
       "track_artist                                           King Harvest  \n",
       "added_by                                                12166088827  \n",
       "added_at                                       2017-10-25T14:58:21Z  \n",
       "danceability                                                  0.657  \n",
       "energy                                                        0.435  \n",
       "key                                                              10  \n",
       "loudness                                                    -15.707  \n",
       "mode                                                              1  \n",
       "speechiness                                                  0.0552  \n",
       "acousticness                                                  0.739  \n",
       "instrumentalness                                                  0  \n",
       "liveness                                                      0.167  \n",
       "valence                                                       0.771  \n",
       "tempo                                                       135.975  \n",
       "type                                                 audio_features  \n",
       "id                                           0q21FNwES2bbtcduB6kjEU  \n",
       "uri                            spotify:track:0q21FNwES2bbtcduB6kjEU  \n",
       "track_href        https://api.spotify.com/v1/tracks/0q21FNwES2bb...  \n",
       "analysis_url      https://api.spotify.com/v1/audio-analysis/0q21...  \n",
       "duration_ms                                                  181133  \n",
       "time_signature                                                    4  "
      ]
     },
     "execution_count": 131,
     "metadata": {},
     "output_type": "execute_result"
    }
   ],
   "source": [
    "poly_playlist.head().T"
   ]
  },
  {
   "cell_type": "code",
   "execution_count": 164,
   "metadata": {},
   "outputs": [],
   "source": [
    "poly_melt_1 = pd.melt(poly_playlist, id_vars=['index'], value_vars=['key','loudness'])\n",
    "poly_melt_2 = pd.melt(poly_playlist, id_vars=['index'], value_vars=['energy','danceability','acousticness','valence'])\n",
    "poly_melt_3 = pd.melt(poly_playlist, id_vars=['index'], value_vars=['speechiness','instrumentalness'])\n",
    "\n"
   ]
  },
  {
   "cell_type": "code",
   "execution_count": 165,
   "metadata": {},
   "outputs": [
    {
     "data": {
      "text/plain": [
       "<seaborn.axisgrid.FacetGrid at 0x12442c128>"
      ]
     },
     "execution_count": 165,
     "metadata": {},
     "output_type": "execute_result"
    },
    {
     "data": {
      "image/png": "[encoded data removed]",
      "text/plain": [
       "<Figure size 443.475x360 with 1 Axes>"
      ]
     },
     "metadata": {},
     "output_type": "display_data"
    }
   ],
   "source": [
    "sns.lmplot(x='index', y='value', data=poly_melt_1, hue='variable', markers=0)"
   ]
  },
  {
   "cell_type": "code",
   "execution_count": 166,
   "metadata": {},
   "outputs": [
    {
     "data": {
      "text/plain": [
       "<seaborn.axisgrid.FacetGrid at 0x1242764e0>"
      ]
     },
     "execution_count": 166,
     "metadata": {},
     "output_type": "execute_result"
    },
    {
     "data": {
      "image/png": "[encoded data removed]",
      "text/plain": [
       "<Figure size 462.975x360 with 1 Axes>"
      ]
     },
     "metadata": {},
     "output_type": "display_data"
    }
   ],
   "source": [
    "sns.lmplot(x='index', y='value', data=poly_melt_2, hue='variable', markers=0)"
   ]
  },
  {
   "cell_type": "code",
   "execution_count": 167,
   "metadata": {},
   "outputs": [
    {
     "data": {
      "text/plain": [
       "<seaborn.axisgrid.FacetGrid at 0x1249bfe10>"
      ]
     },
     "execution_count": 167,
     "metadata": {},
     "output_type": "execute_result"
    },
    {
     "data": {
      "image/png": "[encoded data removed]",
      "text/plain": [
       "<Figure size 482.85x360 with 1 Axes>"
      ]
     },
     "metadata": {},
     "output_type": "display_data"
    }
   ],
   "source": [
    "sns.lmplot(x='index', y='value', data=poly_melt_3, hue='variable', markers=0)"
   ]
  },
  {
   "cell_type": "code",
   "execution_count": null,
   "metadata": {},
   "outputs": [],
   "source": []
  },
  {
   "cell_type": "code",
   "execution_count": null,
   "metadata": {},
   "outputs": [],
   "source": []
  },
  {
   "cell_type": "code",
   "execution_count": null,
   "metadata": {},
   "outputs": [],
   "source": []
  },
  {
   "cell_type": "code",
   "execution_count": null,
   "metadata": {},
   "outputs": [],
   "source": [
    "plt.plot(breathe_playlist['tempo'], 'ro')"
   ]
  },
  {
   "cell_type": "code",
   "execution_count": null,
   "metadata": {},
   "outputs": [],
   "source": [
    "plt.show()"
   ]
  },
  {
   "cell_type": "code",
   "execution_count": null,
   "metadata": {
    "scrolled": true
   },
   "outputs": [],
   "source": [
    "Cassie.playlist_tracks('1Pp4hppaHlPrSYUbXTHMPk')"
   ]
  },
  {
   "cell_type": "code",
   "execution_count": null,
   "metadata": {},
   "outputs": [],
   "source": [
    "a_df = Cassie.playlist_tracks('1Pp4hppaHlPrSYUbXTHMPk')"
   ]
  },
  {
   "cell_type": "code",
   "execution_count": null,
   "metadata": {},
   "outputs": [],
   "source": [
    "a_df = a_df.iloc[0:1]"
   ]
  },
  {
   "cell_type": "code",
   "execution_count": null,
   "metadata": {},
   "outputs": [],
   "source": [
    "pd.concat([a_df, b_df],axis=1)"
   ]
  },
  {
   "cell_type": "code",
   "execution_count": null,
   "metadata": {},
   "outputs": [],
   "source": [
    "playlist = Cassie.sp.user_playlist(Cassie.id, '0hfKr9cRFTWKK1fvut5Dc9')"
   ]
  },
  {
   "cell_type": "code",
   "execution_count": null,
   "metadata": {},
   "outputs": [],
   "source": [
    "playlist = Cassie.sp.user_playlist_tracks(Cassie.id, '1Pp4hppaHlPrSYUbXTHMPk')"
   ]
  },
  {
   "cell_type": "code",
   "execution_count": null,
   "metadata": {},
   "outputs": [],
   "source": []
  },
  {
   "cell_type": "code",
   "execution_count": 61,
   "metadata": {},
   "outputs": [
    {
     "ename": "NameError",
     "evalue": "name 'recursive_skim' is not defined",
     "output_type": "error",
     "traceback": [
      "\u001b[0;31m-----------------------------------------------------------------------\u001b[0m",
      "\u001b[0;31mNameError\u001b[0m                             Traceback (most recent call last)",
      "\u001b[0;32m<ipython-input-61-dc2501246477>\u001b[0m in \u001b[0;36m<module>\u001b[0;34m\u001b[0m\n\u001b[0;32m----> 1\u001b[0;31m \u001b[0mrecursive_skim\u001b[0m\u001b[0;34m(\u001b[0m\u001b[0mplaylist\u001b[0m\u001b[0;34m)\u001b[0m\u001b[0;34m\u001b[0m\u001b[0m\n\u001b[0m",
      "\u001b[0;31mNameError\u001b[0m: name 'recursive_skim' is not defined"
     ]
    }
   ],
   "source": [
    "recursive_skim(playlist)"
   ]
  },
  {
   "cell_type": "code",
   "execution_count": null,
   "metadata": {},
   "outputs": [],
   "source": [
    "playlist['tracks']['next']"
   ]
  },
  {
   "cell_type": "code",
   "execution_count": null,
   "metadata": {},
   "outputs": [],
   "source": [
    "len(playlist['tracks']['items'])"
   ]
  },
  {
   "cell_type": "code",
   "execution_count": null,
   "metadata": {},
   "outputs": [],
   "source": [
    "recursive_skim(playlist)"
   ]
  },
  {
   "cell_type": "code",
   "execution_count": null,
   "metadata": {},
   "outputs": [],
   "source": []
  },
  {
   "cell_type": "code",
   "execution_count": null,
   "metadata": {
    "scrolled": true
   },
   "outputs": [],
   "source": [
    "Cassie.playlists.sort_values('num_tracks', ascending=False)\n"
   ]
  },
  {
   "cell_type": "code",
   "execution_count": null,
   "metadata": {},
   "outputs": [],
   "source": [
    "playlists = Cassie.sp.user_playlists(Cassie.id)"
   ]
  },
  {
   "cell_type": "code",
   "execution_count": null,
   "metadata": {},
   "outputs": [],
   "source": [
    "playlists['items'][0]['tracks']['total']"
   ]
  },
  {
   "cell_type": "code",
   "execution_count": null,
   "metadata": {
    "scrolled": false
   },
   "outputs": [],
   "source": [
    "recursive_skim(playlists)"
   ]
  },
  {
   "cell_type": "code",
   "execution_count": 82,
   "metadata": {},
   "outputs": [],
   "source": [
    "poly_playlist = Caity.playlist_tracks(Caity.get_playlist_id('#polycomm'))"
   ]
  },
  {
   "cell_type": "code",
   "execution_count": 87,
   "metadata": {},
   "outputs": [],
   "source": [
    "poly_playlist = poly_playlist.sort_values('added_at')"
   ]
  },
  {
   "cell_type": "code",
   "execution_count": 99,
   "metadata": {
    "scrolled": true
   },
   "outputs": [
    {
     "data": {
      "text/plain": [
       "[<matplotlib.lines.Line2D at 0x117c8a048>]"
      ]
     },
     "execution_count": 99,
     "metadata": {},
     "output_type": "execute_result"
    },
    {
     "data": {
      "image/png": "[encoded data removed]",
      "text/plain": [
       "<Figure size 432x288 with 1 Axes>"
      ]
     },
     "metadata": {
      "needs_background": "light"
     },
     "output_type": "display_data"
    }
   ],
   "source": [
    "plt.plot('energy', 'bo', data=poly_playlist)\n",
    "#plt.plot(np.unique(x), np.poly1d(np.polyfit(x, y, 1))(np.unique(x)))"
   ]
  },
  {
   "cell_type": "code",
   "execution_count": 101,
   "metadata": {},
   "outputs": [
    {
     "data": {
      "text/plain": [
       "range(0, 288)"
      ]
     },
     "execution_count": 101,
     "metadata": {},
     "output_type": "execute_result"
    }
   ],
   "source": []
  },
  {
   "cell_type": "code",
   "execution_count": 109,
   "metadata": {},
   "outputs": [
    {
     "ename": "ValueError",
     "evalue": "Expected 2D array, got 1D array instead:\narray=[0.892  0.921  0.716  0.843  0.435  0.5    0.201  0.95   0.352  0.895\n 0.936  0.589  0.912  0.871  0.573  0.589  0.412  0.49   0.656  0.729\n 0.886  0.677  0.775  0.797  0.699  0.724  0.675  0.844  0.874  0.298\n 0.259  0.596  0.416  0.914  0.785  0.67   0.496  0.347  0.621  0.595\n 0.745  0.767  0.564  0.538  0.725  0.459  0.818  0.806  0.652  0.831\n 0.664  0.981  0.76   0.973  0.608  0.693  0.811  0.876  0.491  0.478\n 0.807  0.411  0.705  0.656  0.921  0.589  0.557  0.672  0.96   0.58\n 0.187  0.919  0.47   0.814  0.641  0.951  0.701  0.744  0.924  0.615\n 0.548  0.582  0.586  0.706  0.624  0.73   0.489  0.0307 0.532  0.692\n 0.63   0.665  0.94   0.791  0.719  0.606  0.49   0.776  0.514  0.367\n 0.538  0.261  0.715  0.567  0.691  0.711  0.583  0.889  0.967  0.518\n 0.488  0.673  0.467  0.105  0.675  0.431  0.338  0.408  0.775  0.738\n 0.3    0.595  0.624  0.698  0.328  0.411  0.787  0.611  0.823  0.66\n 0.828  0.906  0.413  0.476  0.413  0.8    0.924  0.446  0.418  0.826\n 0.764  0.813  0.463  0.292  0.324  0.515  0.664  0.707  0.44   0.912\n 0.539  0.288  0.673  0.22   0.403  0.525  0.82   0.69   0.818  0.68\n 0.445  0.787  0.55   0.506  0.626  0.697  0.749  0.398  0.582  0.621\n 0.71   0.333  0.295  0.833  0.736  0.781  0.851  0.727  0.785  0.844\n 0.547  0.749  0.655  0.711  0.736  0.71   0.716  0.912  0.79   0.87\n 0.703  0.33   0.285  0.45   0.347  0.603  0.348  0.437  0.645  0.489\n 0.162  0.613  0.253  0.409  0.527  0.601  0.17   0.689  0.476  0.832\n 0.104  0.947  0.29   0.793  0.863  0.743  0.792  0.572  0.739  0.833\n 0.511  0.267  0.633  0.234  0.514  0.395  0.271  0.762  0.549  0.439\n 0.474  0.643  0.601  0.106  0.646  0.544  0.524  0.645  0.474  0.763\n 0.524  0.535  0.693  0.637  0.85   0.794  0.152  0.39   0.185  0.569\n 0.674  0.936  0.737  0.673  0.548  0.403  0.549  0.537  0.584  0.85\n 0.739  0.616  0.946  0.354  0.517  0.147  0.299  0.468  0.642  0.403\n 0.664  0.201  0.623  0.457  0.199  0.652  0.544  0.445  0.406  0.782\n 0.568  0.685  0.101  0.608  0.0993 0.432  0.805  0.348 ].\nReshape your data either using array.reshape(-1, 1) if your data has a single feature or array.reshape(1, -1) if it contains a single sample.",
     "output_type": "error",
     "traceback": [
      "\u001b[0;31m-----------------------------------------------------------------------\u001b[0m",
      "\u001b[0;31mValueError\u001b[0m                            Traceback (most recent call last)",
      "\u001b[0;32m<ipython-input-109-5f4b177959db>\u001b[0m in \u001b[0;36m<module>\u001b[0;34m\u001b[0m\n\u001b[1;32m      5\u001b[0m \u001b[0;34m\u001b[0m\u001b[0m\n\u001b[1;32m      6\u001b[0m \u001b[0;31m# Train the model using the training sets\u001b[0m\u001b[0;34m\u001b[0m\u001b[0;34m\u001b[0m\u001b[0m\n\u001b[0;32m----> 7\u001b[0;31m \u001b[0mregr\u001b[0m\u001b[0;34m.\u001b[0m\u001b[0mfit\u001b[0m\u001b[0;34m(\u001b[0m\u001b[0mpoly_playlist\u001b[0m\u001b[0;34m[\u001b[0m\u001b[0;34m'energy'\u001b[0m\u001b[0;34m]\u001b[0m\u001b[0;34m,\u001b[0m \u001b[0mpoly_playlist\u001b[0m\u001b[0;34m[\u001b[0m\u001b[0;34m'valence'\u001b[0m\u001b[0;34m]\u001b[0m\u001b[0;34m)\u001b[0m\u001b[0;34m\u001b[0m\u001b[0m\n\u001b[0m\u001b[1;32m      8\u001b[0m \u001b[0;34m\u001b[0m\u001b[0m\n\u001b[1;32m      9\u001b[0m \u001b[0;31m# Plot outputs\u001b[0m\u001b[0;34m\u001b[0m\u001b[0;34m\u001b[0m\u001b[0m\n",
      "\u001b[0;32m~/virtualenvs/ishbooks3/lib/python3.6/site-packages/sklearn/linear_model/base.py\u001b[0m in \u001b[0;36mfit\u001b[0;34m(self, X, y, sample_weight)\u001b[0m\n\u001b[1;32m    461\u001b[0m         \u001b[0mn_jobs_\u001b[0m \u001b[0;34m=\u001b[0m \u001b[0mself\u001b[0m\u001b[0;34m.\u001b[0m\u001b[0mn_jobs\u001b[0m\u001b[0;34m\u001b[0m\u001b[0m\n\u001b[1;32m    462\u001b[0m         X, y = check_X_y(X, y, accept_sparse=['csr', 'csc', 'coo'],\n\u001b[0;32m--> 463\u001b[0;31m                          y_numeric=True, multi_output=True)\n\u001b[0m\u001b[1;32m    464\u001b[0m \u001b[0;34m\u001b[0m\u001b[0m\n\u001b[1;32m    465\u001b[0m         \u001b[0;32mif\u001b[0m \u001b[0msample_weight\u001b[0m \u001b[0;32mis\u001b[0m \u001b[0;32mnot\u001b[0m \u001b[0;32mNone\u001b[0m \u001b[0;32mand\u001b[0m \u001b[0mnp\u001b[0m\u001b[0;34m.\u001b[0m\u001b[0matleast_1d\u001b[0m\u001b[0;34m(\u001b[0m\u001b[0msample_weight\u001b[0m\u001b[0;34m)\u001b[0m\u001b[0;34m.\u001b[0m\u001b[0mndim\u001b[0m \u001b[0;34m>\u001b[0m \u001b[0;36m1\u001b[0m\u001b[0;34m:\u001b[0m\u001b[0;34m\u001b[0m\u001b[0m\n",
      "\u001b[0;32m~/virtualenvs/ishbooks3/lib/python3.6/site-packages/sklearn/utils/validation.py\u001b[0m in \u001b[0;36mcheck_X_y\u001b[0;34m(X, y, accept_sparse, accept_large_sparse, dtype, order, copy, force_all_finite, ensure_2d, allow_nd, multi_output, ensure_min_samples, ensure_min_features, y_numeric, warn_on_dtype, estimator)\u001b[0m\n\u001b[1;32m    717\u001b[0m                     \u001b[0mensure_min_features\u001b[0m\u001b[0;34m=\u001b[0m\u001b[0mensure_min_features\u001b[0m\u001b[0;34m,\u001b[0m\u001b[0;34m\u001b[0m\u001b[0m\n\u001b[1;32m    718\u001b[0m                     \u001b[0mwarn_on_dtype\u001b[0m\u001b[0;34m=\u001b[0m\u001b[0mwarn_on_dtype\u001b[0m\u001b[0;34m,\u001b[0m\u001b[0;34m\u001b[0m\u001b[0m\n\u001b[0;32m--> 719\u001b[0;31m                     estimator=estimator)\n\u001b[0m\u001b[1;32m    720\u001b[0m     \u001b[0;32mif\u001b[0m \u001b[0mmulti_output\u001b[0m\u001b[0;34m:\u001b[0m\u001b[0;34m\u001b[0m\u001b[0m\n\u001b[1;32m    721\u001b[0m         y = check_array(y, 'csr', force_all_finite=True, ensure_2d=False,\n",
      "\u001b[0;32m~/virtualenvs/ishbooks3/lib/python3.6/site-packages/sklearn/utils/validation.py\u001b[0m in \u001b[0;36mcheck_array\u001b[0;34m(array, accept_sparse, accept_large_sparse, dtype, order, copy, force_all_finite, ensure_2d, allow_nd, ensure_min_samples, ensure_min_features, warn_on_dtype, estimator)\u001b[0m\n\u001b[1;32m    519\u001b[0m                     \u001b[0;34m\"Reshape your data either using array.reshape(-1, 1) if \"\u001b[0m\u001b[0;34m\u001b[0m\u001b[0m\n\u001b[1;32m    520\u001b[0m                     \u001b[0;34m\"your data has a single feature or array.reshape(1, -1) \"\u001b[0m\u001b[0;34m\u001b[0m\u001b[0m\n\u001b[0;32m--> 521\u001b[0;31m                     \"if it contains a single sample.\".format(array))\n\u001b[0m\u001b[1;32m    522\u001b[0m \u001b[0;34m\u001b[0m\u001b[0m\n\u001b[1;32m    523\u001b[0m         \u001b[0;31m# in the future np.flexible dtypes will be handled like object dtypes\u001b[0m\u001b[0;34m\u001b[0m\u001b[0;34m\u001b[0m\u001b[0m\n",
      "\u001b[0;31mValueError\u001b[0m: Expected 2D array, got 1D array instead:\narray=[0.892  0.921  0.716  0.843  0.435  0.5    0.201  0.95   0.352  0.895\n 0.936  0.589  0.912  0.871  0.573  0.589  0.412  0.49   0.656  0.729\n 0.886  0.677  0.775  0.797  0.699  0.724  0.675  0.844  0.874  0.298\n 0.259  0.596  0.416  0.914  0.785  0.67   0.496  0.347  0.621  0.595\n 0.745  0.767  0.564  0.538  0.725  0.459  0.818  0.806  0.652  0.831\n 0.664  0.981  0.76   0.973  0.608  0.693  0.811  0.876  0.491  0.478\n 0.807  0.411  0.705  0.656  0.921  0.589  0.557  0.672  0.96   0.58\n 0.187  0.919  0.47   0.814  0.641  0.951  0.701  0.744  0.924  0.615\n 0.548  0.582  0.586  0.706  0.624  0.73   0.489  0.0307 0.532  0.692\n 0.63   0.665  0.94   0.791  0.719  0.606  0.49   0.776  0.514  0.367\n 0.538  0.261  0.715  0.567  0.691  0.711  0.583  0.889  0.967  0.518\n 0.488  0.673  0.467  0.105  0.675  0.431  0.338  0.408  0.775  0.738\n 0.3    0.595  0.624  0.698  0.328  0.411  0.787  0.611  0.823  0.66\n 0.828  0.906  0.413  0.476  0.413  0.8    0.924  0.446  0.418  0.826\n 0.764  0.813  0.463  0.292  0.324  0.515  0.664  0.707  0.44   0.912\n 0.539  0.288  0.673  0.22   0.403  0.525  0.82   0.69   0.818  0.68\n 0.445  0.787  0.55   0.506  0.626  0.697  0.749  0.398  0.582  0.621\n 0.71   0.333  0.295  0.833  0.736  0.781  0.851  0.727  0.785  0.844\n 0.547  0.749  0.655  0.711  0.736  0.71   0.716  0.912  0.79   0.87\n 0.703  0.33   0.285  0.45   0.347  0.603  0.348  0.437  0.645  0.489\n 0.162  0.613  0.253  0.409  0.527  0.601  0.17   0.689  0.476  0.832\n 0.104  0.947  0.29   0.793  0.863  0.743  0.792  0.572  0.739  0.833\n 0.511  0.267  0.633  0.234  0.514  0.395  0.271  0.762  0.549  0.439\n 0.474  0.643  0.601  0.106  0.646  0.544  0.524  0.645  0.474  0.763\n 0.524  0.535  0.693  0.637  0.85   0.794  0.152  0.39   0.185  0.569\n 0.674  0.936  0.737  0.673  0.548  0.403  0.549  0.537  0.584  0.85\n 0.739  0.616  0.946  0.354  0.517  0.147  0.299  0.468  0.642  0.403\n 0.664  0.201  0.623  0.457  0.199  0.652  0.544  0.445  0.406  0.782\n 0.568  0.685  0.101  0.608  0.0993 0.432  0.805  0.348 ].\nReshape your data either using array.reshape(-1, 1) if your data has a single feature or array.reshape(1, -1) if it contains a single sample."
     ]
    }
   ],
   "source": [
    "from sklearn import datasets, linear_model\n",
    "\n",
    "# Create linear regression object\n",
    "regr = linear_model.LinearRegression()\n",
    "\n",
    "# Train the model using the training sets\n",
    "regr.fit(poly_playlist['energy'], poly_playlist['valence'])\n",
    "\n",
    "# Plot outputs\n",
    "#plt.plot(range(0,len(poly_playlist)), regr.predict(range(0,len(poly_playlist))), color='red',linewidth=3)\n"
   ]
  },
  {
   "cell_type": "code",
   "execution_count": 68,
   "metadata": {},
   "outputs": [],
   "source": [
    "x = Ben.sp.user_playlist(Ben.id, '18113Y5MWhndlJFdq1Y0vt')"
   ]
  },
  {
   "cell_type": "code",
   "execution_count": 80,
   "metadata": {},
   "outputs": [
    {
     "name": "stdout",
     "output_type": "stream",
     "text": [
      "0  * collaborative <class 'bool'> \n",
      "0  * description <class 'str'> \n",
      "0  * external_urls <class 'dict'> \n",
      "1 \t * spotify <class 'str'> \n",
      "0  * followers <class 'dict'> \n",
      "1 \t * href <class 'NoneType'> \n",
      "1 \t * total <class 'int'> \n",
      "0  * href <class 'str'> \n",
      "0  * id <class 'str'> \n",
      "0  * images <class 'list'> [0] <class 'dict'>\n",
      "1 \t * height <class 'int'> \n",
      "1 \t * url <class 'str'> \n",
      "1 \t * width <class 'int'> \n",
      "0  * name <class 'str'> \n",
      "0  * owner <class 'dict'> \n",
      "1 \t * display_name <class 'str'> \n",
      "1 \t * external_urls <class 'dict'> \n",
      "2 \t\t * spotify <class 'str'> \n",
      "1 \t * href <class 'str'> \n",
      "1 \t * id <class 'str'> \n",
      "1 \t * type <class 'str'> \n",
      "1 \t * uri <class 'str'> \n",
      "0  * primary_color <class 'NoneType'> \n",
      "0  * public <class 'bool'> \n",
      "0  * snapshot_id <class 'str'> \n",
      "0  * tracks <class 'dict'> \n",
      "1 \t * href <class 'str'> \n",
      "1 \t * items <class 'list'> [0] <class 'dict'>\n",
      "2 \t\t * added_at <class 'str'> \n",
      "2 \t\t * added_by <class 'dict'> \n",
      "3 \t\t\t * external_urls <class 'dict'> \n",
      "4 \t\t\t\t * spotify <class 'str'> \n",
      "3 \t\t\t * href <class 'str'> \n",
      "3 \t\t\t * id <class 'str'> \n",
      "3 \t\t\t * type <class 'str'> \n",
      "3 \t\t\t * uri <class 'str'> \n",
      "2 \t\t * is_local <class 'bool'> \n",
      "2 \t\t * primary_color <class 'NoneType'> \n",
      "2 \t\t * track <class 'dict'> \n",
      "3 \t\t\t * album <class 'dict'> \n",
      "4 \t\t\t\t * album_type <class 'str'> \n",
      "4 \t\t\t\t * artists <class 'list'> [0] <class 'dict'>\n",
      "5 \t\t\t\t\t * external_urls <class 'dict'> \n",
      "6 \t\t\t\t\t\t * spotify <class 'str'> \n",
      "5 \t\t\t\t\t * href <class 'str'> \n",
      "5 \t\t\t\t\t * id <class 'str'> \n",
      "5 \t\t\t\t\t * name <class 'str'> \n",
      "5 \t\t\t\t\t * type <class 'str'> \n",
      "5 \t\t\t\t\t * uri <class 'str'> \n",
      "4 \t\t\t\t * available_markets <class 'list'> [0] <class 'str'>\n",
      "4 \t\t\t\t * external_urls <class 'dict'> \n",
      "5 \t\t\t\t\t * spotify <class 'str'> \n",
      "4 \t\t\t\t * href <class 'str'> \n",
      "4 \t\t\t\t * id <class 'str'> \n",
      "4 \t\t\t\t * images <class 'list'> [0] <class 'dict'>\n",
      "5 \t\t\t\t\t * height <class 'int'> \n",
      "5 \t\t\t\t\t * url <class 'str'> \n",
      "5 \t\t\t\t\t * width <class 'int'> \n",
      "4 \t\t\t\t * name <class 'str'> \n",
      "4 \t\t\t\t * release_date <class 'str'> \n",
      "4 \t\t\t\t * release_date_precision <class 'str'> \n",
      "4 \t\t\t\t * total_tracks <class 'int'> \n",
      "4 \t\t\t\t * type <class 'str'> \n",
      "4 \t\t\t\t * uri <class 'str'> \n",
      "3 \t\t\t * artists <class 'list'> [0] <class 'dict'>\n",
      "4 \t\t\t\t * external_urls <class 'dict'> \n",
      "5 \t\t\t\t\t * spotify <class 'str'> \n",
      "4 \t\t\t\t * href <class 'str'> \n",
      "4 \t\t\t\t * id <class 'str'> \n",
      "4 \t\t\t\t * name <class 'str'> \n",
      "4 \t\t\t\t * type <class 'str'> \n",
      "4 \t\t\t\t * uri <class 'str'> \n",
      "3 \t\t\t * available_markets <class 'list'> [0] <class 'str'>\n",
      "3 \t\t\t * disc_number <class 'int'> \n",
      "3 \t\t\t * duration_ms <class 'int'> \n",
      "3 \t\t\t * episode <class 'bool'> \n",
      "3 \t\t\t * explicit <class 'bool'> \n",
      "3 \t\t\t * external_ids <class 'dict'> \n",
      "4 \t\t\t\t * isrc <class 'str'> \n",
      "3 \t\t\t * external_urls <class 'dict'> \n",
      "4 \t\t\t\t * spotify <class 'str'> \n",
      "3 \t\t\t * href <class 'str'> \n",
      "3 \t\t\t * id <class 'str'> \n",
      "3 \t\t\t * is_local <class 'bool'> \n",
      "3 \t\t\t * name <class 'str'> \n",
      "3 \t\t\t * popularity <class 'int'> \n",
      "3 \t\t\t * preview_url <class 'str'> \n",
      "3 \t\t\t * track <class 'bool'> \n",
      "3 \t\t\t * track_number <class 'int'> \n",
      "3 \t\t\t * type <class 'str'> \n",
      "3 \t\t\t * uri <class 'str'> \n",
      "2 \t\t * video_thumbnail <class 'dict'> \n",
      "3 \t\t\t * url <class 'NoneType'> \n",
      "1 \t * limit <class 'int'> \n",
      "1 \t * next <class 'str'> \n",
      "1 \t * offset <class 'int'> \n",
      "1 \t * previous <class 'NoneType'> \n",
      "1 \t * total <class 'int'> \n",
      "0  * type <class 'str'> \n",
      "0  * uri <class 'str'> \n"
     ]
    }
   ],
   "source": [
    "recursive_skim(x)"
   ]
  },
  {
   "cell_type": "code",
   "execution_count": 62,
   "metadata": {},
   "outputs": [],
   "source": []
  },
  {
   "cell_type": "code",
   "execution_count": null,
   "metadata": {},
   "outputs": [],
   "source": [
    "Cassie = Sameify(user_ids['Cassie'])"
   ]
  },
  {
   "cell_type": "code",
   "execution_count": null,
   "metadata": {},
   "outputs": [],
   "source": [
    "Ben = Sameify(user_ids['Ben'])"
   ]
  },
  {
   "cell_type": "code",
   "execution_count": null,
   "metadata": {},
   "outputs": [],
   "source": []
  },
  {
   "cell_type": "code",
   "execution_count": null,
   "metadata": {},
   "outputs": [],
   "source": [
    "x.playlists['playlist_id']"
   ]
  },
  {
   "cell_type": "code",
   "execution_count": null,
   "metadata": {},
   "outputs": [],
   "source": [
    "dat = x.sp.user_playlist(x.id, '5Vv7ob001nbg7rPf31idQE')['tracks']['items'][0]['track']"
   ]
  },
  {
   "cell_type": "code",
   "execution_count": null,
   "metadata": {},
   "outputs": [],
   "source": [
    "x.sp.audio_features(dat['id'])"
   ]
  },
  {
   "cell_type": "code",
   "execution_count": null,
   "metadata": {},
   "outputs": [],
   "source": [
    "pd.DataFrame([i['track'] for i in x.sp.user_playlist(x.id, '5Vv7ob001nbg7rPf31idQE')['tracks']['items']])"
   ]
  },
  {
   "cell_type": "code",
   "execution_count": null,
   "metadata": {},
   "outputs": [],
   "source": [
    " def parse_playlist(playlist):\n",
    "        temp_df = pd.DataFrame()\n",
    "        if playlist['owner']['id'] == usr:\n",
    "            results = sp.user_playlist(usr, playlist['id'],\n",
    "                fields=\"tracks,next\")\n",
    "            tracks = results['tracks']\n",
    "            for i, item in enumerate(tracks['items']):\n",
    "                track = item['track']\n",
    "\n",
    "                track_deets = pd.DataFrame({'playlist_id': playlist['id'],\n",
    "                                           'playlist': playlist['name'], \n",
    "                                           'artist': track['artists'][0]['name'], \n",
    "                                           'title': track['name'],\n",
    "                                           'song_id': track['id']})\n",
    "                song_deets = pd.DataFrame(sp.audio_features(track['id']))\n",
    "                playlist_deets = pd.merge(track_deets, song_deets, \n",
    "                                          how='left', \n",
    "                                          left_on = 'song_id', \n",
    "                                          right_on='id')\n",
    "                temp_df = temp_df.append(playlist_deets)"
   ]
  },
  {
   "cell_type": "code",
   "execution_count": null,
   "metadata": {},
   "outputs": [],
   "source": [
    "pd.DataFrame([i['track'] for i in x.sp.user_playlist(x.id,x.playlists['id'][0])['tracks']['items']])"
   ]
  },
  {
   "cell_type": "code",
   "execution_count": null,
   "metadata": {},
   "outputs": [],
   "source": [
    "playlists_df.columns"
   ]
  },
  {
   "cell_type": "code",
   "execution_count": null,
   "metadata": {},
   "outputs": [],
   "source": [
    "x.sp.user_playlists()"
   ]
  },
  {
   "cell_type": "code",
   "execution_count": null,
   "metadata": {
    "scrolled": true
   },
   "outputs": [],
   "source": [
    "x.sp.user_playlists(x.id, limit=50, offset=100)['items']"
   ]
  },
  {
   "cell_type": "code",
   "execution_count": null,
   "metadata": {},
   "outputs": [],
   "source": [
    "x.sp.user_playlists(x.id, limit=50, offset=100)['previous']"
   ]
  },
  {
   "cell_type": "code",
   "execution_count": null,
   "metadata": {},
   "outputs": [],
   "source": [
    "x.sp.user_playlists(x.id, limit=50, offset=150)['next'] == None"
   ]
  },
  {
   "cell_type": "code",
   "execution_count": null,
   "metadata": {},
   "outputs": [],
   "source": [
    "x.sp.user_playlists(x.id, limit=50, offset=0)['next']"
   ]
  },
  {
   "cell_type": "code",
   "execution_count": null,
   "metadata": {
    "scrolled": true
   },
   "outputs": [],
   "source": [
    "x.user_playlists(x.id)"
   ]
  },
  {
   "cell_type": "code",
   "execution_count": null,
   "metadata": {},
   "outputs": [],
   "source": [
    "y = Sameify(user_ids['Caity']).data"
   ]
  },
  {
   "cell_type": "code",
   "execution_count": null,
   "metadata": {
    "scrolled": true
   },
   "outputs": [],
   "source": [
    "[i['track']['name'] for i in x.current_user_saved_tracks()['items']]"
   ]
  },
  {
   "cell_type": "code",
   "execution_count": null,
   "metadata": {},
   "outputs": [],
   "source": [
    "other_playlists['items'][0]#.keys()#['id']"
   ]
  },
  {
   "cell_type": "code",
   "execution_count": null,
   "metadata": {},
   "outputs": [],
   "source": [
    "# ********** Functions ******************************************************************** #\n",
    "def show_tracks(tracks):\n",
    "    for i, item in enumerate(tracks['items']):\n",
    "        track = item['track']\n",
    "        print \"   %d %32.32s %s\" % (i, track['artists'][0]['name'],\n",
    "            track['name'])\n",
    "        \n",
    "def get_playlist_songs_into_df(usr, playlists, name=''):\n",
    "    songs_df = pd.DataFrame()\n",
    "    \n",
    "    def parse_playlist(playlist):\n",
    "        temp_df = pd.DataFrame()\n",
    "        if playlist['owner']['id'] == usr:\n",
    "            results = sp.user_playlist(usr, playlist['id'],\n",
    "                fields=\"tracks,next\")\n",
    "            tracks = results['tracks']\n",
    "            for i, item in enumerate(tracks['items']):\n",
    "                track = item['track']\n",
    "\n",
    "                track_deets = pd.DataFrame({'playlist_id': playlist['id'],\n",
    "                                           'playlist': playlist['name'], \n",
    "                                           'artist': track['artists'][0]['name'], \n",
    "                                           'title': track['name'],\n",
    "                                           'song_id': track['id']})\n",
    "                song_deets = pd.DataFrame(sp.audio_features(track['id']))\n",
    "                playlist_deets = pd.merge(track_deets, song_deets, \n",
    "                                          how='left', \n",
    "                                          left_on = 'song_id', \n",
    "                                          right_on='id')\n",
    "                temp_df = temp_df.append(playlist_deets)\n",
    "                \n",
    "        return temp_df\n",
    "\n",
    "    if name != '':\n",
    "        playlist = [x for x in other_playlists['items'] if x['name'] == name][0]\n",
    "        pl = parse_playlist(playlist)\n",
    "        songs_df = songs_df.append(pl)\n",
    "    else:\n",
    "        for playlist in playlists['items']:\n",
    "            songs_df = songs_df.append(parse_playlist(playlist), ignore_index=True)\n",
    "    return songs_df\n",
    "            #print tracks['artists'][0]['name'] + ' ' + track['name']\n",
    "    \n",
    "def get_saved_tracks_into_df():\n",
    "    col_names = ['Artist', 'Title']\n",
    "    songs_df = pd.DataFrame(columns=col_names)\n",
    "    \n",
    "    # we have this but just incase:\n",
    "    saved_tracks = sp.current_user_saved_tracks()\n",
    "    \n",
    "    for item in saved_tracks['items']:\n",
    "        track = item['track']\n",
    "        \n",
    "        song_deets = [[track['artists'][0]['name'], track['name']]]\n",
    "        songs_df = songs_df.append(pd.DataFrame(song_deets, columns=col_names), ignore_index=True)\n",
    "        \n",
    "    return songs_df\n",
    "\n",
    "def get_playlist_names(playlists):\n",
    "    return [x['name'] for x in other_playlists['items']]\n",
    "\n",
    "def get_playlist_id(playlists, name):\n",
    "    return [x['id'] for x in other_playlists['items'] if x['name'] == 'Mr. Disco Pop Pants'][0]"
   ]
  },
  {
   "cell_type": "code",
   "execution_count": null,
   "metadata": {},
   "outputs": [],
   "source": [
    "# ********** Assorted Results ************************************************************* #\n",
    "user = sp.user(self_username)\n",
    "user_saved_tracks = sp.current_user_saved_tracks()\n",
    "user_playlists = sp.user_playlists(self_username)\n",
    "other = sp.user(other_username)\n",
    "other_playlists = sp.user_playlists(other_username)\n",
    " "
   ]
  },
  {
   "cell_type": "code",
   "execution_count": null,
   "metadata": {
    "scrolled": true
   },
   "outputs": [],
   "source": [
    "get_playlist_names(other_playlists)"
   ]
  },
  {
   "cell_type": "code",
   "execution_count": null,
   "metadata": {},
   "outputs": [],
   "source": [
    "get_playlist_id(other_playlists, 'Mr. Disco Pop Pants')"
   ]
  },
  {
   "cell_type": "code",
   "execution_count": null,
   "metadata": {},
   "outputs": [],
   "source": [
    "other_playlists_df = get_playlist_songs_into_df(other_username, other_playlists, 'sexy sexy')"
   ]
  },
  {
   "cell_type": "code",
   "execution_count": null,
   "metadata": {},
   "outputs": [],
   "source": [
    "other_playlists_df"
   ]
  },
  {
   "cell_type": "code",
   "execution_count": null,
   "metadata": {},
   "outputs": [],
   "source": [
    "print results['items'][0]['track']['name']"
   ]
  },
  {
   "cell_type": "code",
   "execution_count": null,
   "metadata": {},
   "outputs": [],
   "source": [
    "# Use '#polycomm'\n",
    "# Over time, are there any trends.\n",
    "# Are there any shared trends?"
   ]
  },
  {
   "cell_type": "code",
   "execution_count": null,
   "metadata": {},
   "outputs": [],
   "source": [
    "get_playlist_names(other_playlists)"
   ]
  },
  {
   "cell_type": "code",
   "execution_count": null,
   "metadata": {},
   "outputs": [],
   "source": [
    "results['items'][0]['track']['id']"
   ]
  },
  {
   "cell_type": "code",
   "execution_count": null,
   "metadata": {},
   "outputs": [],
   "source": [
    "results = sp.current_user_saved_tracks(limit=50, offset=0)\n",
    "for item in results['items']:\n",
    "    track = item['track']\n",
    "    print track['name'] + ' - ' + track['artists'][0]['name']\n"
   ]
  },
  {
   "cell_type": "code",
   "execution_count": null,
   "metadata": {},
   "outputs": [],
   "source": [
    "col_names = ['Artist', 'Title']\n",
    "df = pd.DataFrame(columns=col_names)\n",
    "\n",
    "vector = [['a', 'b']]\n",
    "vector2 = [['c', 'd']]\n",
    "df = df.append(pd.DataFrame(vector, columns=col_names), ignore_index=True)\n",
    "df.append(pd.DataFrame(vector2, columns=col_names), ignore_index=True)\n"
   ]
  },
  {
   "cell_type": "code",
   "execution_count": null,
   "metadata": {},
   "outputs": [],
   "source": [
    "songs_cassie_df = get_playlist_songs_into_df(username, playlists_cassie)\n",
    "songs_cassie_df = songs_cassie_df.append(get_saved_tracks_into_df())"
   ]
  },
  {
   "cell_type": "code",
   "execution_count": null,
   "metadata": {},
   "outputs": [],
   "source": [
    "songs_alex_df = get_playlist_songs_into_df('alex-soto', playlists_alex)"
   ]
  },
  {
   "cell_type": "code",
   "execution_count": null,
   "metadata": {},
   "outputs": [],
   "source": [
    "songs_dwayne_df = get_playlist_songs_into_df('dwayne.pryce', playlists_dwayne)"
   ]
  },
  {
   "cell_type": "code",
   "execution_count": null,
   "metadata": {
    "scrolled": true
   },
   "outputs": [],
   "source": [
    "s1 = pd.merge(songs_dwayne_df, songs_alex_df, how='inner', on=['Artist', 'Title'])\n",
    "s1"
   ]
  },
  {
   "cell_type": "code",
   "execution_count": null,
   "metadata": {},
   "outputs": [],
   "source": []
  }
 ],
 "metadata": {
  "kernelspec": {
   "display_name": "Python 2",
   "language": "python",
   "name": "python2"
  },
  "language_info": {
   "codemirror_mode": {
    "name": "ipython",
    "version": 2
   },
   "file_extension": ".py",
   "mimetype": "text/x-python",
   "name": "python",
   "nbconvert_exporter": "python",
   "pygments_lexer": "ipython2",
   "version": "2.7.16"
  }
 },
 "nbformat": 4,
 "nbformat_minor": 2
}
